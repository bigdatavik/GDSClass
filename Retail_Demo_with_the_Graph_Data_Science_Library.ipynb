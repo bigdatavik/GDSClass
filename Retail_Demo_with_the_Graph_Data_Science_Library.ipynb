{
  "nbformat": 4,
  "nbformat_minor": 0,
  "metadata": {
    "jupytext": {
      "encoding": "# -*- coding: utf-8 -*-",
      "formats": "py:light,ipynb"
    },
    "kernelspec": {
      "display_name": "Python 3",
      "language": "python",
      "name": "python3"
    },
    "language_info": {
      "codemirror_mode": {
        "name": "ipython",
        "version": 3
      },
      "file_extension": ".py",
      "mimetype": "text/x-python",
      "name": "python",
      "nbconvert_exporter": "python",
      "pygments_lexer": "ipython3",
      "version": "3.8.8"
    },
    "colab": {
      "name": "Retail Demo with the Graph Data Science Library.ipynb",
      "provenance": [],
      "toc_visible": true,
      "include_colab_link": true
    }
  },
  "cells": [
    {
      "cell_type": "markdown",
      "metadata": {
        "id": "view-in-github",
        "colab_type": "text"
      },
      "source": [
        "<a href=\"https://colab.research.google.com/github/bigdatavik/GDSClasss/blob/main/Retail_Demo_with_the_Graph_Data_Science_Library.ipynb\" target=\"_parent\"><img src=\"https://colab.research.google.com/assets/colab-badge.svg\" alt=\"Open In Colab\"/></a>"
      ]
    },
    {
      "cell_type": "markdown",
      "metadata": {
        "id": "wHI15zL_xoKi"
      },
      "source": [
        "# Retail Demo\n",
        "\n",
        "\n"
      ]
    },
    {
      "cell_type": "code",
      "metadata": {
        "colab": {
          "base_uri": "https://localhost:8080/",
          "height": 1000
        },
        "id": "Iwi8jzv8yz7Y",
        "outputId": "f7148987-cf82-43b5-c4dc-8580ff273ebb"
      },
      "source": [
        "# INSTALL CODE DEPENDENCIES and RESTART your RUNTIME\n",
        "!pip install --upgrade --force-reinstall neo4j pandas matplotlib"
      ],
      "execution_count": 1,
      "outputs": [
        {
          "output_type": "stream",
          "text": [
            "Collecting neo4j\n",
            "\u001b[?25l  Downloading https://files.pythonhosted.org/packages/36/f7/3c0b20ad7cdeac89d44e5380b0b4507995b1aec843692e3e76dd6cd1c638/neo4j-4.2.1.tar.gz (69kB)\n",
            "\u001b[K     |████████████████████████████████| 71kB 4.3MB/s \n",
            "\u001b[?25hCollecting pandas\n",
            "\u001b[?25l  Downloading https://files.pythonhosted.org/packages/f3/d4/3fe3b5bf9886912b64ef040040aec356fa48825e5a829a84c2667afdf952/pandas-1.2.3-cp37-cp37m-manylinux1_x86_64.whl (9.9MB)\n",
            "\u001b[K     |████████████████████████████████| 9.9MB 6.8MB/s \n",
            "\u001b[?25hCollecting matplotlib\n",
            "\u001b[?25l  Downloading https://files.pythonhosted.org/packages/83/ee/8d7e0149ecf95fae7e744c5a93f51a8c9f7a96c63691d10aed6d2c1d8735/matplotlib-3.4.0-cp37-cp37m-manylinux1_x86_64.whl (10.3MB)\n",
            "\u001b[K     |████████████████████████████████| 10.3MB 40.9MB/s \n",
            "\u001b[?25hCollecting pytz\n",
            "\u001b[?25l  Downloading https://files.pythonhosted.org/packages/70/94/784178ca5dd892a98f113cdd923372024dc04b8d40abe77ca76b5fb90ca6/pytz-2021.1-py2.py3-none-any.whl (510kB)\n",
            "\u001b[K     |████████████████████████████████| 512kB 33.5MB/s \n",
            "\u001b[?25hCollecting numpy>=1.16.5\n",
            "\u001b[?25l  Downloading https://files.pythonhosted.org/packages/70/8a/064b4077e3d793f877e3b77aa64f56fa49a4d37236a53f78ee28be009a16/numpy-1.20.1-cp37-cp37m-manylinux2010_x86_64.whl (15.3MB)\n",
            "\u001b[K     |████████████████████████████████| 15.3MB 333kB/s \n",
            "\u001b[?25hCollecting python-dateutil>=2.7.3\n",
            "\u001b[?25l  Downloading https://files.pythonhosted.org/packages/d4/70/d60450c3dd48ef87586924207ae8907090de0b306af2bce5d134d78615cb/python_dateutil-2.8.1-py2.py3-none-any.whl (227kB)\n",
            "\u001b[K     |████████████████████████████████| 235kB 48.2MB/s \n",
            "\u001b[?25hCollecting pillow>=6.2.0\n",
            "\u001b[?25l  Downloading https://files.pythonhosted.org/packages/1f/6d/b719ae8e21660a6a962636896dc4b7d657ef451a3ab941516401846ac5cb/Pillow-8.1.2-cp37-cp37m-manylinux1_x86_64.whl (2.2MB)\n",
            "\u001b[K     |████████████████████████████████| 2.2MB 40.7MB/s \n",
            "\u001b[?25hCollecting pyparsing>=2.2.1\n",
            "\u001b[?25l  Downloading https://files.pythonhosted.org/packages/8a/bb/488841f56197b13700afd5658fc279a2025a39e22449b7cf29864669b15d/pyparsing-2.4.7-py2.py3-none-any.whl (67kB)\n",
            "\u001b[K     |████████████████████████████████| 71kB 7.9MB/s \n",
            "\u001b[?25hCollecting kiwisolver>=1.0.1\n",
            "\u001b[?25l  Downloading https://files.pythonhosted.org/packages/d2/46/231de802ade4225b76b96cffe419cf3ce52bbe92e3b092cf12db7d11c207/kiwisolver-1.3.1-cp37-cp37m-manylinux1_x86_64.whl (1.1MB)\n",
            "\u001b[K     |████████████████████████████████| 1.1MB 40.3MB/s \n",
            "\u001b[?25hCollecting cycler>=0.10\n",
            "  Downloading https://files.pythonhosted.org/packages/f7/d2/e07d3ebb2bd7af696440ce7e754c59dd546ffe1bbe732c8ab68b9c834e61/cycler-0.10.0-py2.py3-none-any.whl\n",
            "Collecting six>=1.5\n",
            "  Downloading https://files.pythonhosted.org/packages/ee/ff/48bde5c0f013094d729fe4b0316ba2a24774b3ff1c52d924a8a4cb04078a/six-1.15.0-py2.py3-none-any.whl\n",
            "Building wheels for collected packages: neo4j\n",
            "  Building wheel for neo4j (setup.py) ... \u001b[?25l\u001b[?25hdone\n",
            "  Created wheel for neo4j: filename=neo4j-4.2.1-cp37-none-any.whl size=95190 sha256=1a45816362f7c7898c6f90665421687875bafc9b89a178b35761366ac5c6b7ee\n",
            "  Stored in directory: /root/.cache/pip/wheels/00/a8/69/083e04c2ffc0a7e026c9356cd5bb54c65128f3e08ef8371be0\n",
            "Successfully built neo4j\n",
            "\u001b[31mERROR: tensorflow 2.4.1 has requirement numpy~=1.19.2, but you'll have numpy 1.20.1 which is incompatible.\u001b[0m\n",
            "\u001b[31mERROR: google-colab 1.0.0 has requirement pandas~=1.1.0; python_version >= \"3.0\", but you'll have pandas 1.2.3 which is incompatible.\u001b[0m\n",
            "\u001b[31mERROR: datascience 0.10.6 has requirement folium==0.2.1, but you'll have folium 0.8.3 which is incompatible.\u001b[0m\n",
            "\u001b[31mERROR: albumentations 0.1.12 has requirement imgaug<0.2.7,>=0.2.5, but you'll have imgaug 0.2.9 which is incompatible.\u001b[0m\n",
            "Installing collected packages: pytz, neo4j, numpy, six, python-dateutil, pandas, pillow, pyparsing, kiwisolver, cycler, matplotlib\n",
            "  Found existing installation: pytz 2018.9\n",
            "    Uninstalling pytz-2018.9:\n",
            "      Successfully uninstalled pytz-2018.9\n",
            "  Found existing installation: numpy 1.19.5\n",
            "    Uninstalling numpy-1.19.5:\n",
            "      Successfully uninstalled numpy-1.19.5\n",
            "  Found existing installation: six 1.15.0\n",
            "    Uninstalling six-1.15.0:\n",
            "      Successfully uninstalled six-1.15.0\n",
            "  Found existing installation: python-dateutil 2.8.1\n",
            "    Uninstalling python-dateutil-2.8.1:\n",
            "      Successfully uninstalled python-dateutil-2.8.1\n",
            "  Found existing installation: pandas 1.1.5\n",
            "    Uninstalling pandas-1.1.5:\n",
            "      Successfully uninstalled pandas-1.1.5\n",
            "  Found existing installation: Pillow 7.0.0\n",
            "    Uninstalling Pillow-7.0.0:\n",
            "      Successfully uninstalled Pillow-7.0.0\n",
            "  Found existing installation: pyparsing 2.4.7\n",
            "    Uninstalling pyparsing-2.4.7:\n",
            "      Successfully uninstalled pyparsing-2.4.7\n",
            "  Found existing installation: kiwisolver 1.3.1\n",
            "    Uninstalling kiwisolver-1.3.1:\n",
            "      Successfully uninstalled kiwisolver-1.3.1\n",
            "  Found existing installation: cycler 0.10.0\n",
            "    Uninstalling cycler-0.10.0:\n",
            "      Successfully uninstalled cycler-0.10.0\n",
            "  Found existing installation: matplotlib 3.2.2\n",
            "    Uninstalling matplotlib-3.2.2:\n",
            "      Successfully uninstalled matplotlib-3.2.2\n",
            "Successfully installed cycler-0.10.0 kiwisolver-1.3.1 matplotlib-3.4.0 neo4j-4.2.1 numpy-1.20.1 pandas-1.2.3 pillow-8.1.2 pyparsing-2.4.7 python-dateutil-2.8.1 pytz-2021.1 six-1.15.0\n"
          ],
          "name": "stdout"
        },
        {
          "output_type": "display_data",
          "data": {
            "application/vnd.colab-display-data+json": {
              "pip_warning": {
                "packages": [
                  "PIL",
                  "cycler",
                  "dateutil",
                  "kiwisolver",
                  "matplotlib",
                  "mpl_toolkits",
                  "numpy",
                  "pandas",
                  "pyparsing",
                  "pytz",
                  "six"
                ]
              }
            }
          },
          "metadata": {
            "tags": []
          }
        }
      ]
    },
    {
      "cell_type": "code",
      "metadata": {
        "id": "V8cCMkGLxoKn"
      },
      "source": [
        "from neo4j import GraphDatabase\n",
        "\n",
        "# tag::imports[]\n",
        "import pandas as pd\n",
        "import matplotlib\n",
        "import matplotlib.pyplot as plt\n",
        "\n",
        "plt.style.use('fivethirtyeight')\n",
        "pd.set_option('display.float_format', lambda x: '%.3f' % x)\n",
        "# end::imports[]"
      ],
      "execution_count": null,
      "outputs": []
    },
    {
      "cell_type": "code",
      "metadata": {
        "colab": {
          "base_uri": "https://localhost:8080/",
          "height": 426
        },
        "id": "pe8-IKeLxoKo",
        "outputId": "463953eb-c8f2-4755-ce7d-a1c1fa3baca5"
      },
      "source": [
        "#bolt_uri = \"bolt://link-prediction-neo4j\"\n",
        "bolt_uri = \"bolt://localhost:7687\"\n",
        "driver = GraphDatabase.driver(bolt_uri, auth=(\"neo4j\", \"letmein\"))\n",
        "\n",
        "print(driver.address)"
      ],
      "execution_count": null,
      "outputs": [
        {
          "output_type": "error",
          "ename": "ServiceUnavailable",
          "evalue": "ignored",
          "traceback": [
            "\u001b[0;31m---------------------------------------------------------------------------\u001b[0m",
            "\u001b[0;31mOSError\u001b[0m                                   Traceback (most recent call last)",
            "\u001b[0;32m/usr/local/lib/python3.7/dist-packages/neo4j/io/__init__.py\u001b[0m in \u001b[0;36m_connect\u001b[0;34m(resolved_address, timeout, keep_alive)\u001b[0m\n\u001b[1;32m    931\u001b[0m         \u001b[0mlog\u001b[0m\u001b[0;34m.\u001b[0m\u001b[0mdebug\u001b[0m\u001b[0;34m(\u001b[0m\u001b[0;34m\"[#0000]  C: <OPEN> %s\"\u001b[0m\u001b[0;34m,\u001b[0m \u001b[0mresolved_address\u001b[0m\u001b[0;34m)\u001b[0m\u001b[0;34m\u001b[0m\u001b[0;34m\u001b[0m\u001b[0m\n\u001b[0;32m--> 932\u001b[0;31m         \u001b[0ms\u001b[0m\u001b[0;34m.\u001b[0m\u001b[0mconnect\u001b[0m\u001b[0;34m(\u001b[0m\u001b[0mresolved_address\u001b[0m\u001b[0;34m)\u001b[0m\u001b[0;34m\u001b[0m\u001b[0;34m\u001b[0m\u001b[0m\n\u001b[0m\u001b[1;32m    933\u001b[0m         \u001b[0ms\u001b[0m\u001b[0;34m.\u001b[0m\u001b[0msettimeout\u001b[0m\u001b[0;34m(\u001b[0m\u001b[0mt\u001b[0m\u001b[0;34m)\u001b[0m\u001b[0;34m\u001b[0m\u001b[0;34m\u001b[0m\u001b[0m\n",
            "\u001b[0;31mOSError\u001b[0m: [Errno 99] Cannot assign requested address",
            "\nDuring handling of the above exception, another exception occurred:\n",
            "\u001b[0;31mServiceUnavailable\u001b[0m                        Traceback (most recent call last)",
            "\u001b[0;32m<ipython-input-2-8bf531a1ae68>\u001b[0m in \u001b[0;36m<module>\u001b[0;34m()\u001b[0m\n\u001b[1;32m      1\u001b[0m \u001b[0;31m#bolt_uri = \"bolt://link-prediction-neo4j\"\u001b[0m\u001b[0;34m\u001b[0m\u001b[0;34m\u001b[0m\u001b[0;34m\u001b[0m\u001b[0m\n\u001b[1;32m      2\u001b[0m \u001b[0mbolt_uri\u001b[0m \u001b[0;34m=\u001b[0m \u001b[0;34m\"bolt://localhost:7687\"\u001b[0m\u001b[0;34m\u001b[0m\u001b[0;34m\u001b[0m\u001b[0m\n\u001b[0;32m----> 3\u001b[0;31m \u001b[0mdriver\u001b[0m \u001b[0;34m=\u001b[0m \u001b[0mGraphDatabase\u001b[0m\u001b[0;34m.\u001b[0m\u001b[0mdriver\u001b[0m\u001b[0;34m(\u001b[0m\u001b[0mbolt_uri\u001b[0m\u001b[0;34m,\u001b[0m \u001b[0mauth\u001b[0m\u001b[0;34m=\u001b[0m\u001b[0;34m(\u001b[0m\u001b[0;34m\"neo4j\"\u001b[0m\u001b[0;34m,\u001b[0m \u001b[0;34m\"letmein\"\u001b[0m\u001b[0;34m)\u001b[0m\u001b[0;34m)\u001b[0m\u001b[0;34m\u001b[0m\u001b[0;34m\u001b[0m\u001b[0m\n\u001b[0m\u001b[1;32m      4\u001b[0m \u001b[0;34m\u001b[0m\u001b[0m\n\u001b[1;32m      5\u001b[0m \u001b[0mprint\u001b[0m\u001b[0;34m(\u001b[0m\u001b[0mdriver\u001b[0m\u001b[0;34m.\u001b[0m\u001b[0maddress\u001b[0m\u001b[0;34m)\u001b[0m\u001b[0;34m\u001b[0m\u001b[0;34m\u001b[0m\u001b[0m\n",
            "\u001b[0;32m/usr/local/lib/python3.7/dist-packages/neo4j/__init__.py\u001b[0m in \u001b[0;36mdriver\u001b[0;34m(cls, uri, auth, **config)\u001b[0m\n\u001b[1;32m    181\u001b[0m \u001b[0;34m\u001b[0m\u001b[0m\n\u001b[1;32m    182\u001b[0m         \u001b[0;32mif\u001b[0m \u001b[0mdriver_type\u001b[0m \u001b[0;34m==\u001b[0m \u001b[0mDRIVER_BOLT\u001b[0m\u001b[0;34m:\u001b[0m\u001b[0;34m\u001b[0m\u001b[0;34m\u001b[0m\u001b[0m\n\u001b[0;32m--> 183\u001b[0;31m             \u001b[0;32mreturn\u001b[0m \u001b[0mcls\u001b[0m\u001b[0;34m.\u001b[0m\u001b[0mbolt_driver\u001b[0m\u001b[0;34m(\u001b[0m\u001b[0mparsed\u001b[0m\u001b[0;34m.\u001b[0m\u001b[0mnetloc\u001b[0m\u001b[0;34m,\u001b[0m \u001b[0mauth\u001b[0m\u001b[0;34m=\u001b[0m\u001b[0mauth\u001b[0m\u001b[0;34m,\u001b[0m \u001b[0;34m**\u001b[0m\u001b[0mconfig\u001b[0m\u001b[0;34m)\u001b[0m\u001b[0;34m\u001b[0m\u001b[0;34m\u001b[0m\u001b[0m\n\u001b[0m\u001b[1;32m    184\u001b[0m         \u001b[0;32melif\u001b[0m \u001b[0mdriver_type\u001b[0m \u001b[0;34m==\u001b[0m \u001b[0mDRIVER_NEO4j\u001b[0m\u001b[0;34m:\u001b[0m\u001b[0;34m\u001b[0m\u001b[0;34m\u001b[0m\u001b[0m\n\u001b[1;32m    185\u001b[0m             \u001b[0mrouting_context\u001b[0m \u001b[0;34m=\u001b[0m \u001b[0mparse_routing_context\u001b[0m\u001b[0;34m(\u001b[0m\u001b[0mparsed\u001b[0m\u001b[0;34m.\u001b[0m\u001b[0mquery\u001b[0m\u001b[0;34m)\u001b[0m\u001b[0;34m\u001b[0m\u001b[0;34m\u001b[0m\u001b[0m\n",
            "\u001b[0;32m/usr/local/lib/python3.7/dist-packages/neo4j/__init__.py\u001b[0m in \u001b[0;36mbolt_driver\u001b[0;34m(cls, target, auth, **config)\u001b[0m\n\u001b[1;32m    194\u001b[0m \u001b[0;34m\u001b[0m\u001b[0m\n\u001b[1;32m    195\u001b[0m         \u001b[0;32mtry\u001b[0m\u001b[0;34m:\u001b[0m\u001b[0;34m\u001b[0m\u001b[0;34m\u001b[0m\u001b[0m\n\u001b[0;32m--> 196\u001b[0;31m             \u001b[0;32mreturn\u001b[0m \u001b[0mBoltDriver\u001b[0m\u001b[0;34m.\u001b[0m\u001b[0mopen\u001b[0m\u001b[0;34m(\u001b[0m\u001b[0mtarget\u001b[0m\u001b[0;34m,\u001b[0m \u001b[0mauth\u001b[0m\u001b[0;34m=\u001b[0m\u001b[0mauth\u001b[0m\u001b[0;34m,\u001b[0m \u001b[0;34m**\u001b[0m\u001b[0mconfig\u001b[0m\u001b[0;34m)\u001b[0m\u001b[0;34m\u001b[0m\u001b[0;34m\u001b[0m\u001b[0m\n\u001b[0m\u001b[1;32m    197\u001b[0m         \u001b[0;32mexcept\u001b[0m \u001b[0;34m(\u001b[0m\u001b[0mBoltHandshakeError\u001b[0m\u001b[0;34m,\u001b[0m \u001b[0mBoltSecurityError\u001b[0m\u001b[0;34m)\u001b[0m \u001b[0;32mas\u001b[0m \u001b[0merror\u001b[0m\u001b[0;34m:\u001b[0m\u001b[0;34m\u001b[0m\u001b[0;34m\u001b[0m\u001b[0m\n\u001b[1;32m    198\u001b[0m             \u001b[0;32mfrom\u001b[0m \u001b[0mneo4j\u001b[0m\u001b[0;34m.\u001b[0m\u001b[0mexceptions\u001b[0m \u001b[0;32mimport\u001b[0m \u001b[0mServiceUnavailable\u001b[0m\u001b[0;34m\u001b[0m\u001b[0;34m\u001b[0m\u001b[0m\n",
            "\u001b[0;32m/usr/local/lib/python3.7/dist-packages/neo4j/__init__.py\u001b[0m in \u001b[0;36mopen\u001b[0;34m(cls, target, auth, **config)\u001b[0m\n\u001b[1;32m    357\u001b[0m         \u001b[0maddress\u001b[0m \u001b[0;34m=\u001b[0m \u001b[0mcls\u001b[0m\u001b[0;34m.\u001b[0m\u001b[0mparse_target\u001b[0m\u001b[0;34m(\u001b[0m\u001b[0mtarget\u001b[0m\u001b[0;34m)\u001b[0m\u001b[0;34m\u001b[0m\u001b[0;34m\u001b[0m\u001b[0m\n\u001b[1;32m    358\u001b[0m         \u001b[0mpool_config\u001b[0m\u001b[0;34m,\u001b[0m \u001b[0mdefault_workspace_config\u001b[0m \u001b[0;34m=\u001b[0m \u001b[0mConfig\u001b[0m\u001b[0;34m.\u001b[0m\u001b[0mconsume_chain\u001b[0m\u001b[0;34m(\u001b[0m\u001b[0mconfig\u001b[0m\u001b[0;34m,\u001b[0m \u001b[0mPoolConfig\u001b[0m\u001b[0;34m,\u001b[0m \u001b[0mWorkspaceConfig\u001b[0m\u001b[0;34m)\u001b[0m\u001b[0;34m\u001b[0m\u001b[0;34m\u001b[0m\u001b[0m\n\u001b[0;32m--> 359\u001b[0;31m         \u001b[0mpool\u001b[0m \u001b[0;34m=\u001b[0m \u001b[0mBoltPool\u001b[0m\u001b[0;34m.\u001b[0m\u001b[0mopen\u001b[0m\u001b[0;34m(\u001b[0m\u001b[0maddress\u001b[0m\u001b[0;34m,\u001b[0m \u001b[0mauth\u001b[0m\u001b[0;34m=\u001b[0m\u001b[0mauth\u001b[0m\u001b[0;34m,\u001b[0m \u001b[0mpool_config\u001b[0m\u001b[0;34m=\u001b[0m\u001b[0mpool_config\u001b[0m\u001b[0;34m,\u001b[0m \u001b[0mworkspace_config\u001b[0m\u001b[0;34m=\u001b[0m\u001b[0mdefault_workspace_config\u001b[0m\u001b[0;34m)\u001b[0m\u001b[0;34m\u001b[0m\u001b[0;34m\u001b[0m\u001b[0m\n\u001b[0m\u001b[1;32m    360\u001b[0m         \u001b[0;32mreturn\u001b[0m \u001b[0mcls\u001b[0m\u001b[0;34m(\u001b[0m\u001b[0mpool\u001b[0m\u001b[0;34m,\u001b[0m \u001b[0mdefault_workspace_config\u001b[0m\u001b[0;34m)\u001b[0m\u001b[0;34m\u001b[0m\u001b[0;34m\u001b[0m\u001b[0m\n\u001b[1;32m    361\u001b[0m \u001b[0;34m\u001b[0m\u001b[0m\n",
            "\u001b[0;32m/usr/local/lib/python3.7/dist-packages/neo4j/io/__init__.py\u001b[0m in \u001b[0;36mopen\u001b[0;34m(cls, address, auth, pool_config, workspace_config, routing_context)\u001b[0m\n\u001b[1;32m    533\u001b[0m \u001b[0;34m\u001b[0m\u001b[0m\n\u001b[1;32m    534\u001b[0m         \u001b[0mpool\u001b[0m \u001b[0;34m=\u001b[0m \u001b[0mcls\u001b[0m\u001b[0;34m(\u001b[0m\u001b[0mopener\u001b[0m\u001b[0;34m,\u001b[0m \u001b[0mpool_config\u001b[0m\u001b[0;34m,\u001b[0m \u001b[0mworkspace_config\u001b[0m\u001b[0;34m,\u001b[0m \u001b[0mrouting_context\u001b[0m\u001b[0;34m,\u001b[0m \u001b[0maddress\u001b[0m\u001b[0;34m)\u001b[0m\u001b[0;34m\u001b[0m\u001b[0;34m\u001b[0m\u001b[0m\n\u001b[0;32m--> 535\u001b[0;31m         \u001b[0mseeds\u001b[0m \u001b[0;34m=\u001b[0m \u001b[0;34m[\u001b[0m\u001b[0mpool\u001b[0m\u001b[0;34m.\u001b[0m\u001b[0macquire\u001b[0m\u001b[0;34m(\u001b[0m\u001b[0;34m)\u001b[0m \u001b[0;32mfor\u001b[0m \u001b[0m_\u001b[0m \u001b[0;32min\u001b[0m \u001b[0mrange\u001b[0m\u001b[0;34m(\u001b[0m\u001b[0mpool_config\u001b[0m\u001b[0;34m.\u001b[0m\u001b[0minit_size\u001b[0m\u001b[0;34m)\u001b[0m\u001b[0;34m]\u001b[0m\u001b[0;34m\u001b[0m\u001b[0;34m\u001b[0m\u001b[0m\n\u001b[0m\u001b[1;32m    536\u001b[0m         \u001b[0mpool\u001b[0m\u001b[0;34m.\u001b[0m\u001b[0mrelease\u001b[0m\u001b[0;34m(\u001b[0m\u001b[0;34m*\u001b[0m\u001b[0mseeds\u001b[0m\u001b[0;34m)\u001b[0m\u001b[0;34m\u001b[0m\u001b[0;34m\u001b[0m\u001b[0m\n\u001b[1;32m    537\u001b[0m         \u001b[0;32mreturn\u001b[0m \u001b[0mpool\u001b[0m\u001b[0;34m\u001b[0m\u001b[0;34m\u001b[0m\u001b[0m\n",
            "\u001b[0;32m/usr/local/lib/python3.7/dist-packages/neo4j/io/__init__.py\u001b[0m in \u001b[0;36m<listcomp>\u001b[0;34m(.0)\u001b[0m\n\u001b[1;32m    533\u001b[0m \u001b[0;34m\u001b[0m\u001b[0m\n\u001b[1;32m    534\u001b[0m         \u001b[0mpool\u001b[0m \u001b[0;34m=\u001b[0m \u001b[0mcls\u001b[0m\u001b[0;34m(\u001b[0m\u001b[0mopener\u001b[0m\u001b[0;34m,\u001b[0m \u001b[0mpool_config\u001b[0m\u001b[0;34m,\u001b[0m \u001b[0mworkspace_config\u001b[0m\u001b[0;34m,\u001b[0m \u001b[0mrouting_context\u001b[0m\u001b[0;34m,\u001b[0m \u001b[0maddress\u001b[0m\u001b[0;34m)\u001b[0m\u001b[0;34m\u001b[0m\u001b[0;34m\u001b[0m\u001b[0m\n\u001b[0;32m--> 535\u001b[0;31m         \u001b[0mseeds\u001b[0m \u001b[0;34m=\u001b[0m \u001b[0;34m[\u001b[0m\u001b[0mpool\u001b[0m\u001b[0;34m.\u001b[0m\u001b[0macquire\u001b[0m\u001b[0;34m(\u001b[0m\u001b[0;34m)\u001b[0m \u001b[0;32mfor\u001b[0m \u001b[0m_\u001b[0m \u001b[0;32min\u001b[0m \u001b[0mrange\u001b[0m\u001b[0;34m(\u001b[0m\u001b[0mpool_config\u001b[0m\u001b[0;34m.\u001b[0m\u001b[0minit_size\u001b[0m\u001b[0;34m)\u001b[0m\u001b[0;34m]\u001b[0m\u001b[0;34m\u001b[0m\u001b[0;34m\u001b[0m\u001b[0m\n\u001b[0m\u001b[1;32m    536\u001b[0m         \u001b[0mpool\u001b[0m\u001b[0;34m.\u001b[0m\u001b[0mrelease\u001b[0m\u001b[0;34m(\u001b[0m\u001b[0;34m*\u001b[0m\u001b[0mseeds\u001b[0m\u001b[0;34m)\u001b[0m\u001b[0;34m\u001b[0m\u001b[0;34m\u001b[0m\u001b[0m\n\u001b[1;32m    537\u001b[0m         \u001b[0;32mreturn\u001b[0m \u001b[0mpool\u001b[0m\u001b[0;34m\u001b[0m\u001b[0;34m\u001b[0m\u001b[0m\n",
            "\u001b[0;32m/usr/local/lib/python3.7/dist-packages/neo4j/io/__init__.py\u001b[0m in \u001b[0;36macquire\u001b[0;34m(self, access_mode, timeout, database)\u001b[0m\n\u001b[1;32m    547\u001b[0m     \u001b[0;32mdef\u001b[0m \u001b[0macquire\u001b[0m\u001b[0;34m(\u001b[0m\u001b[0mself\u001b[0m\u001b[0;34m,\u001b[0m \u001b[0maccess_mode\u001b[0m\u001b[0;34m=\u001b[0m\u001b[0;32mNone\u001b[0m\u001b[0;34m,\u001b[0m \u001b[0mtimeout\u001b[0m\u001b[0;34m=\u001b[0m\u001b[0;32mNone\u001b[0m\u001b[0;34m,\u001b[0m \u001b[0mdatabase\u001b[0m\u001b[0;34m=\u001b[0m\u001b[0;32mNone\u001b[0m\u001b[0;34m)\u001b[0m\u001b[0;34m:\u001b[0m\u001b[0;34m\u001b[0m\u001b[0;34m\u001b[0m\u001b[0m\n\u001b[1;32m    548\u001b[0m         \u001b[0;31m# The access_mode and database is not needed for a direct connection, its just there for consistency.\u001b[0m\u001b[0;34m\u001b[0m\u001b[0;34m\u001b[0m\u001b[0;34m\u001b[0m\u001b[0m\n\u001b[0;32m--> 549\u001b[0;31m         \u001b[0;32mreturn\u001b[0m \u001b[0mself\u001b[0m\u001b[0;34m.\u001b[0m\u001b[0m_acquire\u001b[0m\u001b[0;34m(\u001b[0m\u001b[0mself\u001b[0m\u001b[0;34m.\u001b[0m\u001b[0maddress\u001b[0m\u001b[0;34m,\u001b[0m \u001b[0mtimeout\u001b[0m\u001b[0;34m)\u001b[0m\u001b[0;34m\u001b[0m\u001b[0;34m\u001b[0m\u001b[0m\n\u001b[0m\u001b[1;32m    550\u001b[0m \u001b[0;34m\u001b[0m\u001b[0m\n\u001b[1;32m    551\u001b[0m \u001b[0;34m\u001b[0m\u001b[0m\n",
            "\u001b[0;32m/usr/local/lib/python3.7/dist-packages/neo4j/io/__init__.py\u001b[0m in \u001b[0;36m_acquire\u001b[0;34m(self, address, timeout)\u001b[0m\n\u001b[1;32m    411\u001b[0m                     \u001b[0mtimeout\u001b[0m \u001b[0;34m=\u001b[0m \u001b[0mmin\u001b[0m\u001b[0;34m(\u001b[0m\u001b[0mself\u001b[0m\u001b[0;34m.\u001b[0m\u001b[0mpool_config\u001b[0m\u001b[0;34m.\u001b[0m\u001b[0mconnection_timeout\u001b[0m\u001b[0;34m,\u001b[0m \u001b[0mtime_remaining\u001b[0m\u001b[0;34m(\u001b[0m\u001b[0;34m)\u001b[0m\u001b[0;34m)\u001b[0m\u001b[0;34m\u001b[0m\u001b[0;34m\u001b[0m\u001b[0m\n\u001b[1;32m    412\u001b[0m                     \u001b[0;32mtry\u001b[0m\u001b[0;34m:\u001b[0m\u001b[0;34m\u001b[0m\u001b[0;34m\u001b[0m\u001b[0m\n\u001b[0;32m--> 413\u001b[0;31m                         \u001b[0mconnection\u001b[0m \u001b[0;34m=\u001b[0m \u001b[0mself\u001b[0m\u001b[0;34m.\u001b[0m\u001b[0mopener\u001b[0m\u001b[0;34m(\u001b[0m\u001b[0maddress\u001b[0m\u001b[0;34m,\u001b[0m \u001b[0mtimeout\u001b[0m\u001b[0;34m)\u001b[0m\u001b[0;34m\u001b[0m\u001b[0;34m\u001b[0m\u001b[0m\n\u001b[0m\u001b[1;32m    414\u001b[0m                     \u001b[0;32mexcept\u001b[0m \u001b[0mServiceUnavailable\u001b[0m\u001b[0;34m:\u001b[0m\u001b[0;34m\u001b[0m\u001b[0;34m\u001b[0m\u001b[0m\n\u001b[1;32m    415\u001b[0m                         \u001b[0mself\u001b[0m\u001b[0;34m.\u001b[0m\u001b[0mremove\u001b[0m\u001b[0;34m(\u001b[0m\u001b[0maddress\u001b[0m\u001b[0;34m)\u001b[0m\u001b[0;34m\u001b[0m\u001b[0;34m\u001b[0m\u001b[0m\n",
            "\u001b[0;32m/usr/local/lib/python3.7/dist-packages/neo4j/io/__init__.py\u001b[0m in \u001b[0;36mopener\u001b[0;34m(addr, timeout)\u001b[0m\n\u001b[1;32m    530\u001b[0m \u001b[0;34m\u001b[0m\u001b[0m\n\u001b[1;32m    531\u001b[0m         \u001b[0;32mdef\u001b[0m \u001b[0mopener\u001b[0m\u001b[0;34m(\u001b[0m\u001b[0maddr\u001b[0m\u001b[0;34m,\u001b[0m \u001b[0mtimeout\u001b[0m\u001b[0;34m)\u001b[0m\u001b[0;34m:\u001b[0m\u001b[0;34m\u001b[0m\u001b[0;34m\u001b[0m\u001b[0m\n\u001b[0;32m--> 532\u001b[0;31m             \u001b[0;32mreturn\u001b[0m \u001b[0mBolt\u001b[0m\u001b[0;34m.\u001b[0m\u001b[0mopen\u001b[0m\u001b[0;34m(\u001b[0m\u001b[0maddr\u001b[0m\u001b[0;34m,\u001b[0m \u001b[0mauth\u001b[0m\u001b[0;34m=\u001b[0m\u001b[0mauth\u001b[0m\u001b[0;34m,\u001b[0m \u001b[0mtimeout\u001b[0m\u001b[0;34m=\u001b[0m\u001b[0mtimeout\u001b[0m\u001b[0;34m,\u001b[0m \u001b[0mrouting_context\u001b[0m\u001b[0;34m=\u001b[0m\u001b[0mrouting_context\u001b[0m\u001b[0;34m,\u001b[0m \u001b[0;34m**\u001b[0m\u001b[0mpool_config\u001b[0m\u001b[0;34m)\u001b[0m\u001b[0;34m\u001b[0m\u001b[0;34m\u001b[0m\u001b[0m\n\u001b[0m\u001b[1;32m    533\u001b[0m \u001b[0;34m\u001b[0m\u001b[0m\n\u001b[1;32m    534\u001b[0m         \u001b[0mpool\u001b[0m \u001b[0;34m=\u001b[0m \u001b[0mcls\u001b[0m\u001b[0;34m(\u001b[0m\u001b[0mopener\u001b[0m\u001b[0;34m,\u001b[0m \u001b[0mpool_config\u001b[0m\u001b[0;34m,\u001b[0m \u001b[0mworkspace_config\u001b[0m\u001b[0;34m,\u001b[0m \u001b[0mrouting_context\u001b[0m\u001b[0;34m,\u001b[0m \u001b[0maddress\u001b[0m\u001b[0;34m)\u001b[0m\u001b[0;34m\u001b[0m\u001b[0;34m\u001b[0m\u001b[0m\n",
            "\u001b[0;32m/usr/local/lib/python3.7/dist-packages/neo4j/io/__init__.py\u001b[0m in \u001b[0;36mopen\u001b[0;34m(cls, address, auth, timeout, routing_context, **pool_config)\u001b[0m\n\u001b[1;32m    196\u001b[0m             \u001b[0mcustom_resolver\u001b[0m\u001b[0;34m=\u001b[0m\u001b[0mpool_config\u001b[0m\u001b[0;34m.\u001b[0m\u001b[0mresolver\u001b[0m\u001b[0;34m,\u001b[0m\u001b[0;34m\u001b[0m\u001b[0;34m\u001b[0m\u001b[0m\n\u001b[1;32m    197\u001b[0m             \u001b[0mssl_context\u001b[0m\u001b[0;34m=\u001b[0m\u001b[0mpool_config\u001b[0m\u001b[0;34m.\u001b[0m\u001b[0mget_ssl_context\u001b[0m\u001b[0;34m(\u001b[0m\u001b[0;34m)\u001b[0m\u001b[0;34m,\u001b[0m\u001b[0;34m\u001b[0m\u001b[0;34m\u001b[0m\u001b[0m\n\u001b[0;32m--> 198\u001b[0;31m             \u001b[0mkeep_alive\u001b[0m\u001b[0;34m=\u001b[0m\u001b[0mpool_config\u001b[0m\u001b[0;34m.\u001b[0m\u001b[0mkeep_alive\u001b[0m\u001b[0;34m,\u001b[0m\u001b[0;34m\u001b[0m\u001b[0;34m\u001b[0m\u001b[0m\n\u001b[0m\u001b[1;32m    199\u001b[0m         )\n\u001b[1;32m    200\u001b[0m \u001b[0;34m\u001b[0m\u001b[0m\n",
            "\u001b[0;32m/usr/local/lib/python3.7/dist-packages/neo4j/io/__init__.py\u001b[0m in \u001b[0;36mconnect\u001b[0;34m(address, timeout, custom_resolver, ssl_context, keep_alive)\u001b[0m\n\u001b[1;32m   1050\u001b[0m         \u001b[0;32mraise\u001b[0m \u001b[0mServiceUnavailable\u001b[0m\u001b[0;34m(\u001b[0m\u001b[0;34m\"Failed to resolve addresses for %s\"\u001b[0m \u001b[0;34m%\u001b[0m \u001b[0maddress\u001b[0m\u001b[0;34m)\u001b[0m\u001b[0;34m\u001b[0m\u001b[0;34m\u001b[0m\u001b[0m\n\u001b[1;32m   1051\u001b[0m     \u001b[0;32melse\u001b[0m\u001b[0;34m:\u001b[0m\u001b[0;34m\u001b[0m\u001b[0;34m\u001b[0m\u001b[0m\n\u001b[0;32m-> 1052\u001b[0;31m         \u001b[0;32mraise\u001b[0m \u001b[0mlast_error\u001b[0m\u001b[0;34m\u001b[0m\u001b[0;34m\u001b[0m\u001b[0m\n\u001b[0m",
            "\u001b[0;32m/usr/local/lib/python3.7/dist-packages/neo4j/io/__init__.py\u001b[0m in \u001b[0;36mconnect\u001b[0;34m(address, timeout, custom_resolver, ssl_context, keep_alive)\u001b[0m\n\u001b[1;32m   1040\u001b[0m         \u001b[0;32mtry\u001b[0m\u001b[0;34m:\u001b[0m\u001b[0;34m\u001b[0m\u001b[0;34m\u001b[0m\u001b[0m\n\u001b[1;32m   1041\u001b[0m             \u001b[0mhost\u001b[0m \u001b[0;34m=\u001b[0m \u001b[0maddress\u001b[0m\u001b[0;34m[\u001b[0m\u001b[0;36m0\u001b[0m\u001b[0;34m]\u001b[0m\u001b[0;34m\u001b[0m\u001b[0;34m\u001b[0m\u001b[0m\n\u001b[0;32m-> 1042\u001b[0;31m             \u001b[0ms\u001b[0m \u001b[0;34m=\u001b[0m \u001b[0m_connect\u001b[0m\u001b[0;34m(\u001b[0m\u001b[0mresolved_address\u001b[0m\u001b[0;34m,\u001b[0m \u001b[0mtimeout\u001b[0m\u001b[0;34m,\u001b[0m \u001b[0mkeep_alive\u001b[0m\u001b[0;34m)\u001b[0m\u001b[0;34m\u001b[0m\u001b[0;34m\u001b[0m\u001b[0m\n\u001b[0m\u001b[1;32m   1043\u001b[0m             \u001b[0ms\u001b[0m \u001b[0;34m=\u001b[0m \u001b[0m_secure\u001b[0m\u001b[0;34m(\u001b[0m\u001b[0ms\u001b[0m\u001b[0;34m,\u001b[0m \u001b[0mhost\u001b[0m\u001b[0;34m,\u001b[0m \u001b[0mssl_context\u001b[0m\u001b[0;34m)\u001b[0m\u001b[0;34m\u001b[0m\u001b[0;34m\u001b[0m\u001b[0m\n\u001b[1;32m   1044\u001b[0m             \u001b[0;32mreturn\u001b[0m \u001b[0m_handshake\u001b[0m\u001b[0;34m(\u001b[0m\u001b[0ms\u001b[0m\u001b[0;34m,\u001b[0m \u001b[0maddress\u001b[0m\u001b[0;34m)\u001b[0m\u001b[0;34m\u001b[0m\u001b[0;34m\u001b[0m\u001b[0m\n",
            "\u001b[0;32m/usr/local/lib/python3.7/dist-packages/neo4j/io/__init__.py\u001b[0m in \u001b[0;36m_connect\u001b[0;34m(resolved_address, timeout, keep_alive)\u001b[0m\n\u001b[1;32m    944\u001b[0m         \u001b[0mlog\u001b[0m\u001b[0;34m.\u001b[0m\u001b[0mdebug\u001b[0m\u001b[0;34m(\u001b[0m\u001b[0;34m\"[#0000]  C: <CLOSE> %s\"\u001b[0m\u001b[0;34m,\u001b[0m \u001b[0mresolved_address\u001b[0m\u001b[0;34m)\u001b[0m\u001b[0;34m\u001b[0m\u001b[0;34m\u001b[0m\u001b[0m\n\u001b[1;32m    945\u001b[0m         \u001b[0ms\u001b[0m\u001b[0;34m.\u001b[0m\u001b[0mclose\u001b[0m\u001b[0;34m(\u001b[0m\u001b[0;34m)\u001b[0m\u001b[0;34m\u001b[0m\u001b[0;34m\u001b[0m\u001b[0m\n\u001b[0;32m--> 946\u001b[0;31m         \u001b[0;32mraise\u001b[0m \u001b[0mServiceUnavailable\u001b[0m\u001b[0;34m(\u001b[0m\u001b[0;34m\"Failed to establish connection to {!r} (reason {})\"\u001b[0m\u001b[0;34m.\u001b[0m\u001b[0mformat\u001b[0m\u001b[0;34m(\u001b[0m\u001b[0mresolved_address\u001b[0m\u001b[0;34m,\u001b[0m \u001b[0merror\u001b[0m\u001b[0;34m)\u001b[0m\u001b[0;34m)\u001b[0m\u001b[0;34m\u001b[0m\u001b[0;34m\u001b[0m\u001b[0m\n\u001b[0m\u001b[1;32m    947\u001b[0m     \u001b[0;32melse\u001b[0m\u001b[0;34m:\u001b[0m\u001b[0;34m\u001b[0m\u001b[0;34m\u001b[0m\u001b[0m\n\u001b[1;32m    948\u001b[0m         \u001b[0;32mreturn\u001b[0m \u001b[0ms\u001b[0m\u001b[0;34m\u001b[0m\u001b[0;34m\u001b[0m\u001b[0m\n",
            "\u001b[0;31mServiceUnavailable\u001b[0m: Failed to establish connection to IPv6Address(('::1', 7687, 0, 0)) (reason [Errno 99] Cannot assign requested address)"
          ]
        }
      ]
    },
    {
      "cell_type": "markdown",
      "metadata": {
        "id": "sRF8ziROxoKp"
      },
      "source": [
        "### DB Schema"
      ]
    },
    {
      "cell_type": "code",
      "metadata": {
        "id": "eupmd-_KxoKp",
        "outputId": "0c814d51-b515-4962-aacb-22ba076256c0"
      },
      "source": [
        "query = \"\"\"\n",
        "CALL db.schema.visualization;\n",
        "\"\"\"\n",
        "\n",
        "with driver.session(database=\"neo4j\") as session:\n",
        "    #display(session.run(query).consume().counters)\n",
        "    result = session.run(query)\n",
        "    results = pd.DataFrame([dict(record) for record in result])\n",
        "results "
      ],
      "execution_count": null,
      "outputs": [
        {
          "output_type": "execute_result",
          "data": {
            "text/html": [
              "<div>\n",
              "<style scoped>\n",
              "    .dataframe tbody tr th:only-of-type {\n",
              "        vertical-align: middle;\n",
              "    }\n",
              "\n",
              "    .dataframe tbody tr th {\n",
              "        vertical-align: top;\n",
              "    }\n",
              "\n",
              "    .dataframe thead th {\n",
              "        text-align: right;\n",
              "    }\n",
              "</style>\n",
              "<table border=\"1\" class=\"dataframe\">\n",
              "  <thead>\n",
              "    <tr style=\"text-align: right;\">\n",
              "      <th></th>\n",
              "      <th>nodes</th>\n",
              "      <th>relationships</th>\n",
              "    </tr>\n",
              "  </thead>\n",
              "  <tbody>\n",
              "    <tr>\n",
              "      <th>0</th>\n",
              "      <td>[(name, indexes, constraints), (name, indexes,...</td>\n",
              "      <td>[(), (), (), (), (), (), (), ()]</td>\n",
              "    </tr>\n",
              "  </tbody>\n",
              "</table>\n",
              "</div>"
            ],
            "text/plain": [
              "                                               nodes  \\\n",
              "0  [(name, indexes, constraints), (name, indexes,...   \n",
              "\n",
              "                      relationships  \n",
              "0  [(), (), (), (), (), (), (), ()]  "
            ]
          },
          "metadata": {
            "tags": []
          },
          "execution_count": 40
        }
      ]
    },
    {
      "cell_type": "code",
      "metadata": {
        "id": "MoSdS8NrxoKp",
        "outputId": "c2b56a03-33ad-4ec2-c8b9-acb157f3bcdf"
      },
      "source": [
        "query = \"\"\"\n",
        "CALL apoc.meta.subGraph(\n",
        "{excludes:['SIMILAR', 'SIMILAR_EMBEDDING', 'SIMILAR_EVERYTHING_EMBEDDING', 'SIMILAR_NODE2VEC_EMBEDDING', 'Similar']});\n",
        "\"\"\"\n",
        "\n",
        "with driver.session(database=\"neo4j\") as session:\n",
        "    #display(session.run(query).consume().counters)\n",
        "    result = session.run(query)\n",
        "    results = pd.DataFrame([dict(record) for record in result])\n",
        "results \n"
      ],
      "execution_count": null,
      "outputs": [
        {
          "output_type": "execute_result",
          "data": {
            "text/html": [
              "<div>\n",
              "<style scoped>\n",
              "    .dataframe tbody tr th:only-of-type {\n",
              "        vertical-align: middle;\n",
              "    }\n",
              "\n",
              "    .dataframe tbody tr th {\n",
              "        vertical-align: top;\n",
              "    }\n",
              "\n",
              "    .dataframe thead th {\n",
              "        text-align: right;\n",
              "    }\n",
              "</style>\n",
              "<table border=\"1\" class=\"dataframe\">\n",
              "  <thead>\n",
              "    <tr style=\"text-align: right;\">\n",
              "      <th></th>\n",
              "      <th>nodes</th>\n",
              "      <th>relationships</th>\n",
              "    </tr>\n",
              "  </thead>\n",
              "  <tbody>\n",
              "    <tr>\n",
              "      <th>0</th>\n",
              "      <td>[(name, count), (name, count), (name, count), ...</td>\n",
              "      <td>[(count, type, in, out), (count, type, in, out...</td>\n",
              "    </tr>\n",
              "  </tbody>\n",
              "</table>\n",
              "</div>"
            ],
            "text/plain": [
              "                                               nodes  \\\n",
              "0  [(name, count), (name, count), (name, count), ...   \n",
              "\n",
              "                                       relationships  \n",
              "0  [(count, type, in, out), (count, type, in, out...  "
            ]
          },
          "metadata": {
            "tags": []
          },
          "execution_count": 5
        }
      ]
    },
    {
      "cell_type": "markdown",
      "metadata": {
        "id": "HcfzOjBdxoKq"
      },
      "source": [
        "![Screen%20Shot%202021-03-25%20at%2010.14.15%20AM.png](attachment:Screen%20Shot%202021-03-25%20at%2010.14.15%20AM.png)"
      ]
    },
    {
      "cell_type": "markdown",
      "metadata": {
        "id": "_ezf5fEYxoKq"
      },
      "source": [
        "### Clean up Demo"
      ]
    },
    {
      "cell_type": "code",
      "metadata": {
        "id": "JWBRcbvGxoKq"
      },
      "source": [
        "run_queries = \"\"\"\n",
        "\n",
        "// Drop all models\n",
        "CALL gds.beta.model.list()\n",
        "YIELD modelInfo AS mInfo\n",
        "WITH mInfo.modelName as savedModel\n",
        "CALL gds.beta.model.drop(savedModel)\n",
        "YIELD modelInfo\n",
        "RETURN modelInfo;\n",
        "\n",
        "// Drop all graphs\n",
        "CALL gds.graph.list()\n",
        "YIELD graphName AS namedGraph\n",
        "WITH namedGraph\n",
        "CALL gds.graph.drop(namedGraph)\n",
        "YIELD graphName\n",
        "RETURN graphName;\n",
        "\n",
        "// REMOVE properties\n",
        "MATCH (i:Item) REMOVE i.embedding;\n",
        "MATCH (i:Item) REMOVE i.graphsage_embedding;\n",
        "MATCH (i:Item) REMOVE i.node2vec_embedding;\n",
        "MATCH (i:Item) REMOVE i.graphsage_embedding_everything;\n",
        "\n",
        "// Delete extra OWLs\n",
        "UNWIND ['SEA OWL', 'LAND OWL', 'FIRE OWL', 'FOREST OWL', 'POTATO OWL'] as descr\n",
        "MATCH (i:Item {Description:descr})\n",
        "DETACH DELETE i;\n",
        "\n",
        "// REMOVE extra similarity rels\n",
        "UNWIND ['SIMILAR_EMBEDDING', 'SIMILAR_GRAPHSAGE_EMBEDDING_MULTIPARTITE','SIMILAR_GRAPHSAGE_EMBEDDING','SIMILAR_GRAPHSAGE_EMBEDDING_KNN', 'SIMILAR_NODE2VEC_EMBEDDING',\n",
        "      'SIMILAR_EVERYTHING_EMBEDDING', 'Similar', 'SIMILAR'] as rel\n",
        "MATCH ()-[r]->() WHERE type(r) = rel\n",
        "DELETE r;   \n",
        "\"\"\"\n",
        "\n",
        "\n",
        "with driver.session() as session:\n",
        "    for statement in run_queries.split(';'):\n",
        "        try:\n",
        "            session.run(statement.strip())\n",
        "        except:\n",
        "            pass"
      ],
      "execution_count": null,
      "outputs": []
    },
    {
      "cell_type": "markdown",
      "metadata": {
        "id": "tuCGk5Q1xoKq"
      },
      "source": [
        "### Load Item Affinity Graph"
      ]
    },
    {
      "cell_type": "code",
      "metadata": {
        "id": "zQH6v_iTxoKr",
        "outputId": "8ebdec6f-ba21-4dd8-fbb6-f5b4997fb63d"
      },
      "source": [
        "query = \"\"\"\n",
        "CALL gds.graph.create(\n",
        "  'items',\n",
        "  {\n",
        "    Item: {\n",
        "      label: 'Item',\n",
        "      properties: {\n",
        "        price: {\n",
        "          property: 'avg_price',\n",
        "          defaultValue: 0.0\n",
        "        },\n",
        "        price_scaled: {\n",
        "         property: 'avg_price_scaled',\n",
        "         defaultValue: 0\n",
        "       },\n",
        "       total_sold: {\n",
        "         property: 'num_sold',\n",
        "         defaultValue: 0\n",
        "       },\n",
        "       total_sold_scaled: {\n",
        "         property: 'num_sold_scaled',\n",
        "         defaultValue: 0\n",
        "       }\n",
        "      }\n",
        "    }\n",
        "  },\n",
        "  {\n",
        "      copurchased: {\n",
        "        type: 'COPURCHASED',\n",
        "      orientation: 'UNDIRECTED'\n",
        "    }\n",
        "  }\n",
        ");\n",
        "\"\"\"\n",
        "\n",
        "with driver.session(database=\"neo4j\") as session:\n",
        "    #display(session.run(query).consume().counters)\n",
        "    result = session.run(query)\n",
        "    results = pd.DataFrame([dict(record) for record in result])\n",
        "results "
      ],
      "execution_count": null,
      "outputs": [
        {
          "output_type": "execute_result",
          "data": {
            "text/html": [
              "<div>\n",
              "<style scoped>\n",
              "    .dataframe tbody tr th:only-of-type {\n",
              "        vertical-align: middle;\n",
              "    }\n",
              "\n",
              "    .dataframe tbody tr th {\n",
              "        vertical-align: top;\n",
              "    }\n",
              "\n",
              "    .dataframe thead th {\n",
              "        text-align: right;\n",
              "    }\n",
              "</style>\n",
              "<table border=\"1\" class=\"dataframe\">\n",
              "  <thead>\n",
              "    <tr style=\"text-align: right;\">\n",
              "      <th></th>\n",
              "      <th>nodeProjection</th>\n",
              "      <th>relationshipProjection</th>\n",
              "      <th>graphName</th>\n",
              "      <th>nodeCount</th>\n",
              "      <th>relationshipCount</th>\n",
              "      <th>createMillis</th>\n",
              "    </tr>\n",
              "  </thead>\n",
              "  <tbody>\n",
              "    <tr>\n",
              "      <th>0</th>\n",
              "      <td>{'Item': {'properties': {'price_scaled': {'pro...</td>\n",
              "      <td>{'copurchased': {'orientation': 'UNDIRECTED', ...</td>\n",
              "      <td>items</td>\n",
              "      <td>2864</td>\n",
              "      <td>2430254</td>\n",
              "      <td>479</td>\n",
              "    </tr>\n",
              "  </tbody>\n",
              "</table>\n",
              "</div>"
            ],
            "text/plain": [
              "                                      nodeProjection  \\\n",
              "0  {'Item': {'properties': {'price_scaled': {'pro...   \n",
              "\n",
              "                              relationshipProjection graphName  nodeCount  \\\n",
              "0  {'copurchased': {'orientation': 'UNDIRECTED', ...     items       2864   \n",
              "\n",
              "   relationshipCount  createMillis  \n",
              "0            2430254           479  "
            ]
          },
          "metadata": {
            "tags": []
          },
          "execution_count": 22
        }
      ]
    },
    {
      "cell_type": "markdown",
      "metadata": {
        "id": "7-jjlFwNxoKr"
      },
      "source": [
        "### **Node2Vec** on items Graph"
      ]
    },
    {
      "cell_type": "code",
      "metadata": {
        "id": "yr8Seu8ixoKr",
        "outputId": "e8f1b495-af4c-4477-dd30-ab06d35ad7ce"
      },
      "source": [
        "query = \"\"\"\n",
        "CALL gds.alpha.node2vec.stream('items', {\n",
        "     embeddingDimension: 8, \n",
        "     walkLength:16, \n",
        "     returnFactor: 1.0,\n",
        "     inOutFactor:.5,\n",
        "     concurrency:4});\n",
        "\"\"\"\n",
        "\n",
        "with driver.session(database=\"neo4j\") as session:\n",
        "    #display(session.run(query).consume().counters)\n",
        "    result = session.run(query)\n",
        "    results = pd.DataFrame([dict(record) for record in result])\n",
        "results "
      ],
      "execution_count": null,
      "outputs": [
        {
          "output_type": "execute_result",
          "data": {
            "text/html": [
              "<div>\n",
              "<style scoped>\n",
              "    .dataframe tbody tr th:only-of-type {\n",
              "        vertical-align: middle;\n",
              "    }\n",
              "\n",
              "    .dataframe tbody tr th {\n",
              "        vertical-align: top;\n",
              "    }\n",
              "\n",
              "    .dataframe thead th {\n",
              "        text-align: right;\n",
              "    }\n",
              "</style>\n",
              "<table border=\"1\" class=\"dataframe\">\n",
              "  <thead>\n",
              "    <tr style=\"text-align: right;\">\n",
              "      <th></th>\n",
              "      <th>nodeId</th>\n",
              "      <th>embedding</th>\n",
              "    </tr>\n",
              "  </thead>\n",
              "  <tbody>\n",
              "    <tr>\n",
              "      <th>0</th>\n",
              "      <td>12</td>\n",
              "      <td>[-0.48127540946006775, 0.18506743013858795, 0....</td>\n",
              "    </tr>\n",
              "    <tr>\n",
              "      <th>1</th>\n",
              "      <td>13</td>\n",
              "      <td>[0.4862574338912964, 0.5233066082000732, 0.576...</td>\n",
              "    </tr>\n",
              "    <tr>\n",
              "      <th>2</th>\n",
              "      <td>14</td>\n",
              "      <td>[-0.05882648006081581, 0.3673568665981293, 0.2...</td>\n",
              "    </tr>\n",
              "    <tr>\n",
              "      <th>3</th>\n",
              "      <td>15</td>\n",
              "      <td>[-0.09630923718214035, 0.27312034368515015, 0....</td>\n",
              "    </tr>\n",
              "    <tr>\n",
              "      <th>4</th>\n",
              "      <td>16</td>\n",
              "      <td>[-0.2119910717010498, 0.3726838231086731, 0.33...</td>\n",
              "    </tr>\n",
              "    <tr>\n",
              "      <th>...</th>\n",
              "      <td>...</td>\n",
              "      <td>...</td>\n",
              "    </tr>\n",
              "    <tr>\n",
              "      <th>2859</th>\n",
              "      <td>2871</td>\n",
              "      <td>[-0.31048938632011414, 0.17524071037769318, 0....</td>\n",
              "    </tr>\n",
              "    <tr>\n",
              "      <th>2860</th>\n",
              "      <td>2872</td>\n",
              "      <td>[0.7993035912513733, -0.012966255657374859, -0...</td>\n",
              "    </tr>\n",
              "    <tr>\n",
              "      <th>2861</th>\n",
              "      <td>2873</td>\n",
              "      <td>[-0.12410412728786469, 0.3660004138946533, -0....</td>\n",
              "    </tr>\n",
              "    <tr>\n",
              "      <th>2862</th>\n",
              "      <td>2874</td>\n",
              "      <td>[-0.3239247798919678, 0.0857771709561348, 0.03...</td>\n",
              "    </tr>\n",
              "    <tr>\n",
              "      <th>2863</th>\n",
              "      <td>2875</td>\n",
              "      <td>[0.1458876132965088, 0.6071087121963501, 0.492...</td>\n",
              "    </tr>\n",
              "  </tbody>\n",
              "</table>\n",
              "<p>2864 rows × 2 columns</p>\n",
              "</div>"
            ],
            "text/plain": [
              "      nodeId                                          embedding\n",
              "0         12  [-0.48127540946006775, 0.18506743013858795, 0....\n",
              "1         13  [0.4862574338912964, 0.5233066082000732, 0.576...\n",
              "2         14  [-0.05882648006081581, 0.3673568665981293, 0.2...\n",
              "3         15  [-0.09630923718214035, 0.27312034368515015, 0....\n",
              "4         16  [-0.2119910717010498, 0.3726838231086731, 0.33...\n",
              "...      ...                                                ...\n",
              "2859    2871  [-0.31048938632011414, 0.17524071037769318, 0....\n",
              "2860    2872  [0.7993035912513733, -0.012966255657374859, -0...\n",
              "2861    2873  [-0.12410412728786469, 0.3660004138946533, -0....\n",
              "2862    2874  [-0.3239247798919678, 0.0857771709561348, 0.03...\n",
              "2863    2875  [0.1458876132965088, 0.6071087121963501, 0.492...\n",
              "\n",
              "[2864 rows x 2 columns]"
            ]
          },
          "metadata": {
            "tags": []
          },
          "execution_count": 23
        }
      ]
    },
    {
      "cell_type": "markdown",
      "metadata": {
        "id": "in7yG3UxxoKs"
      },
      "source": [
        "### **Node2Vec** write embeddings to graph"
      ]
    },
    {
      "cell_type": "code",
      "metadata": {
        "id": "JImTdvb1xoKs",
        "outputId": "d3b74d52-fca7-4c1a-e29d-8131f1430803"
      },
      "source": [
        "query = \"\"\"\n",
        "CALL gds.alpha.node2vec.write('items', \n",
        "    {\n",
        "     embeddingDimension: 8, \n",
        "     walkLength:16, \n",
        "     returnFactor: 1.0,\n",
        "     inOutFactor:.5,\n",
        "     writeProperty:'node2vec_embedding',\n",
        "     concurrency:4\n",
        "    }\n",
        ")\n",
        "\"\"\"\n",
        "\n",
        "with driver.session(database=\"neo4j\") as session:\n",
        "    #display(session.run(query).consume().counters)\n",
        "    result = session.run(query)\n",
        "    results = pd.DataFrame([dict(record) for record in result])\n",
        "results"
      ],
      "execution_count": null,
      "outputs": [
        {
          "output_type": "execute_result",
          "data": {
            "text/html": [
              "<div>\n",
              "<style scoped>\n",
              "    .dataframe tbody tr th:only-of-type {\n",
              "        vertical-align: middle;\n",
              "    }\n",
              "\n",
              "    .dataframe tbody tr th {\n",
              "        vertical-align: top;\n",
              "    }\n",
              "\n",
              "    .dataframe thead th {\n",
              "        text-align: right;\n",
              "    }\n",
              "</style>\n",
              "<table border=\"1\" class=\"dataframe\">\n",
              "  <thead>\n",
              "    <tr style=\"text-align: right;\">\n",
              "      <th></th>\n",
              "      <th>nodeCount</th>\n",
              "      <th>nodePropertiesWritten</th>\n",
              "      <th>createMillis</th>\n",
              "      <th>computeMillis</th>\n",
              "      <th>writeMillis</th>\n",
              "      <th>configuration</th>\n",
              "    </tr>\n",
              "  </thead>\n",
              "  <tbody>\n",
              "    <tr>\n",
              "      <th>0</th>\n",
              "      <td>2864</td>\n",
              "      <td>2864</td>\n",
              "      <td>0</td>\n",
              "      <td>745185</td>\n",
              "      <td>370</td>\n",
              "      <td>{'initialLearningRate': 0.025, 'writeConcurren...</td>\n",
              "    </tr>\n",
              "  </tbody>\n",
              "</table>\n",
              "</div>"
            ],
            "text/plain": [
              "   nodeCount  nodePropertiesWritten  createMillis  computeMillis  writeMillis  \\\n",
              "0       2864                   2864             0         745185          370   \n",
              "\n",
              "                                       configuration  \n",
              "0  {'initialLearningRate': 0.025, 'writeConcurren...  "
            ]
          },
          "metadata": {
            "tags": []
          },
          "execution_count": 24
        }
      ]
    },
    {
      "cell_type": "markdown",
      "metadata": {
        "id": "5ZITcWaJxoKs"
      },
      "source": [
        "### **Calculate Similarity**"
      ]
    },
    {
      "cell_type": "code",
      "metadata": {
        "id": "owfDYXRJxoKs",
        "outputId": "3817e327-93e8-4b86-9a11-591ba208b280"
      },
      "source": [
        "query = \"\"\"\n",
        "MATCH (i:Item)\n",
        " WITH {item:id(i), weights: i.node2vec_embedding} AS itemData\n",
        " WITH collect(itemData) AS data\n",
        " CALL gds.alpha.similarity.cosine.write({\n",
        "  data: data,\n",
        "  skipValue: null,\n",
        "  topK: 5,\n",
        "  similarityCutoff:.1,\n",
        "  writeRelationshipType:'SIMILAR_NODE2VEC_EMBEDDING'\n",
        " })\n",
        "YIELD min, max, mean, stdDev, p25, p50, p75, p90, p95, p99, p999, p100\n",
        "RETURN min, max, mean, stdDev;\n",
        "\"\"\"\n",
        "\n",
        "with driver.session(database=\"neo4j\") as session:\n",
        "    #display(session.run(query).consume().counters)\n",
        "    result = session.run(query)\n",
        "    results = pd.DataFrame([dict(record) for record in result])\n",
        "results"
      ],
      "execution_count": null,
      "outputs": [
        {
          "output_type": "execute_result",
          "data": {
            "text/html": [
              "<div>\n",
              "<style scoped>\n",
              "    .dataframe tbody tr th:only-of-type {\n",
              "        vertical-align: middle;\n",
              "    }\n",
              "\n",
              "    .dataframe tbody tr th {\n",
              "        vertical-align: top;\n",
              "    }\n",
              "\n",
              "    .dataframe thead th {\n",
              "        text-align: right;\n",
              "    }\n",
              "</style>\n",
              "<table border=\"1\" class=\"dataframe\">\n",
              "  <thead>\n",
              "    <tr style=\"text-align: right;\">\n",
              "      <th></th>\n",
              "      <th>min</th>\n",
              "      <th>max</th>\n",
              "      <th>mean</th>\n",
              "      <th>stdDev</th>\n",
              "    </tr>\n",
              "  </thead>\n",
              "  <tbody>\n",
              "    <tr>\n",
              "      <th>0</th>\n",
              "      <td>0.726</td>\n",
              "      <td>1.000</td>\n",
              "      <td>0.961</td>\n",
              "      <td>0.050</td>\n",
              "    </tr>\n",
              "  </tbody>\n",
              "</table>\n",
              "</div>"
            ],
            "text/plain": [
              "    min   max  mean  stdDev\n",
              "0 0.726 1.000 0.961   0.050"
            ]
          },
          "metadata": {
            "tags": []
          },
          "execution_count": 25
        }
      ]
    },
    {
      "cell_type": "markdown",
      "metadata": {
        "id": "tp1FZo8mxoKt"
      },
      "source": [
        "### **GraphSAGE** model training on items graph"
      ]
    },
    {
      "cell_type": "code",
      "metadata": {
        "id": "44ufBY0AxoKt",
        "outputId": "b6a00e6d-9fa4-4d63-ba75-2502dbd20ec6"
      },
      "source": [
        "query = \"\"\"\n",
        "CALL gds.beta.graphSage.train(\n",
        "  'items',\n",
        "  {\n",
        "    embeddingDimension: 16,\n",
        "    modelName: 'graphsage_demo',\n",
        "    featureProperties: ['total_sold_scaled', 'price_scaled'],\n",
        "    aggregator: 'pool', //aggregating data\n",
        "    activationFunction: 'sigmoid', //part of the aggregation function\n",
        "    degreeAsProperty: true, //adding more properties\n",
        "    epochs: 5, //how many times to traverse the graph during training\n",
        "    searchDepth:5, //depth of the random walk\n",
        "    sampleSizes:[25,10], //how many nodes to sample at each layer\n",
        "    negativeSampleWeight: 10 //used by the loss function\n",
        "  }\n",
        ");\n",
        "\"\"\"\n",
        "\n",
        "with driver.session(database=\"neo4j\") as session:\n",
        "    #display(session.run(query).consume().counters)\n",
        "    result = session.run(query)\n",
        "    results = pd.DataFrame([dict(record) for record in result])\n",
        "results \n"
      ],
      "execution_count": null,
      "outputs": [
        {
          "output_type": "execute_result",
          "data": {
            "text/html": [
              "<div>\n",
              "<style scoped>\n",
              "    .dataframe tbody tr th:only-of-type {\n",
              "        vertical-align: middle;\n",
              "    }\n",
              "\n",
              "    .dataframe tbody tr th {\n",
              "        vertical-align: top;\n",
              "    }\n",
              "\n",
              "    .dataframe thead th {\n",
              "        text-align: right;\n",
              "    }\n",
              "</style>\n",
              "<table border=\"1\" class=\"dataframe\">\n",
              "  <thead>\n",
              "    <tr style=\"text-align: right;\">\n",
              "      <th></th>\n",
              "      <th>graphName</th>\n",
              "      <th>graphCreateConfig</th>\n",
              "      <th>modelInfo</th>\n",
              "      <th>configuration</th>\n",
              "      <th>trainMillis</th>\n",
              "    </tr>\n",
              "  </thead>\n",
              "  <tbody>\n",
              "    <tr>\n",
              "      <th>0</th>\n",
              "      <td>items</td>\n",
              "      <td>{}</td>\n",
              "      <td>{'name': 'graphsage_demo', 'type': 'graphSage'}</td>\n",
              "      <td>{'maxIterations': 10, 'negativeSampleWeight': ...</td>\n",
              "      <td>27386</td>\n",
              "    </tr>\n",
              "  </tbody>\n",
              "</table>\n",
              "</div>"
            ],
            "text/plain": [
              "  graphName graphCreateConfig  \\\n",
              "0     items                {}   \n",
              "\n",
              "                                         modelInfo  \\\n",
              "0  {'name': 'graphsage_demo', 'type': 'graphSage'}   \n",
              "\n",
              "                                       configuration  trainMillis  \n",
              "0  {'maxIterations': 10, 'negativeSampleWeight': ...        27386  "
            ]
          },
          "metadata": {
            "tags": []
          },
          "execution_count": 26
        }
      ]
    },
    {
      "cell_type": "markdown",
      "metadata": {
        "id": "sir5M7B1xoKt"
      },
      "source": [
        "### **Add new data**"
      ]
    },
    {
      "cell_type": "code",
      "metadata": {
        "id": "zKzVArElxoKu",
        "outputId": "49199e89-f9a3-459b-a4d3-0a8a6f030ab4"
      },
      "source": [
        "query = \"\"\"\n",
        "UNWIND ['SEA OWL', 'LAND OWL', 'FIRE OWL', 'FOREST OWL', 'POTATO OWL'] as descr\n",
        "MATCH (i:Item) where i.Description contains('SPACE OWL') WITH i, descr\n",
        "CREATE (i2:Item{Description:descr})\n",
        "CREATE (i) - [:COPURCHASED] -> (i2)\n",
        "CREATE (i) <- [:COPURCHASED] - (i2);\n",
        "\"\"\"\n",
        "\n",
        "with driver.session(database=\"neo4j\") as session:\n",
        "    #display(session.run(query).consume().counters)\n",
        "    result = session.run(query)\n",
        "    results = pd.DataFrame([dict(record) for record in result])\n",
        "results "
      ],
      "execution_count": null,
      "outputs": [
        {
          "output_type": "execute_result",
          "data": {
            "text/html": [
              "<div>\n",
              "<style scoped>\n",
              "    .dataframe tbody tr th:only-of-type {\n",
              "        vertical-align: middle;\n",
              "    }\n",
              "\n",
              "    .dataframe tbody tr th {\n",
              "        vertical-align: top;\n",
              "    }\n",
              "\n",
              "    .dataframe thead th {\n",
              "        text-align: right;\n",
              "    }\n",
              "</style>\n",
              "<table border=\"1\" class=\"dataframe\">\n",
              "  <thead>\n",
              "    <tr style=\"text-align: right;\">\n",
              "      <th></th>\n",
              "    </tr>\n",
              "  </thead>\n",
              "  <tbody>\n",
              "  </tbody>\n",
              "</table>\n",
              "</div>"
            ],
            "text/plain": [
              "Empty DataFrame\n",
              "Columns: []\n",
              "Index: []"
            ]
          },
          "metadata": {
            "tags": []
          },
          "execution_count": 27
        }
      ]
    },
    {
      "cell_type": "markdown",
      "metadata": {
        "id": "z1Ovzi_axoKu"
      },
      "source": [
        "### **Drop and Load affinity graph again**"
      ]
    },
    {
      "cell_type": "code",
      "metadata": {
        "id": "-jcrfcHZxoKu",
        "outputId": "27c7def6-fef9-4aae-8c15-9bfdb2340338"
      },
      "source": [
        "query = \"\"\"\n",
        "CALL gds.graph.drop('items');\n",
        "\"\"\"\n",
        "\n",
        "with driver.session(database=\"neo4j\") as session:\n",
        "    #display(session.run(query).consume().counters)\n",
        "    result = session.run(query)\n",
        "    results = pd.DataFrame([dict(record) for record in result])\n",
        "results"
      ],
      "execution_count": null,
      "outputs": [
        {
          "output_type": "execute_result",
          "data": {
            "text/html": [
              "<div>\n",
              "<style scoped>\n",
              "    .dataframe tbody tr th:only-of-type {\n",
              "        vertical-align: middle;\n",
              "    }\n",
              "\n",
              "    .dataframe tbody tr th {\n",
              "        vertical-align: top;\n",
              "    }\n",
              "\n",
              "    .dataframe thead th {\n",
              "        text-align: right;\n",
              "    }\n",
              "</style>\n",
              "<table border=\"1\" class=\"dataframe\">\n",
              "  <thead>\n",
              "    <tr style=\"text-align: right;\">\n",
              "      <th></th>\n",
              "      <th>graphName</th>\n",
              "      <th>database</th>\n",
              "      <th>memoryUsage</th>\n",
              "      <th>sizeInBytes</th>\n",
              "      <th>detailSizeInBytes</th>\n",
              "      <th>nodeProjection</th>\n",
              "      <th>relationshipProjection</th>\n",
              "      <th>nodeQuery</th>\n",
              "      <th>relationshipQuery</th>\n",
              "      <th>nodeCount</th>\n",
              "      <th>relationshipCount</th>\n",
              "      <th>density</th>\n",
              "      <th>creationTime</th>\n",
              "      <th>modificationTime</th>\n",
              "      <th>schema</th>\n",
              "    </tr>\n",
              "  </thead>\n",
              "  <tbody>\n",
              "    <tr>\n",
              "      <th>0</th>\n",
              "      <td>items</td>\n",
              "      <td>neo4j</td>\n",
              "      <td>3063 KiB</td>\n",
              "      <td>3137496</td>\n",
              "      <td>{'relationships': {'total': 2908528, 'everythi...</td>\n",
              "      <td>{'Item': {'properties': {'price_scaled': {'pro...</td>\n",
              "      <td>{'copurchased': {'orientation': 'UNDIRECTED', ...</td>\n",
              "      <td>None</td>\n",
              "      <td>None</td>\n",
              "      <td>2864</td>\n",
              "      <td>2430254</td>\n",
              "      <td>0.296</td>\n",
              "      <td>2021-03-25T11:01:57.540516000-04:00</td>\n",
              "      <td>2021-03-25T11:01:59.243571000-04:00</td>\n",
              "      <td>{'relationships': {'copurchased': {}}, 'nodes'...</td>\n",
              "    </tr>\n",
              "  </tbody>\n",
              "</table>\n",
              "</div>"
            ],
            "text/plain": [
              "  graphName database memoryUsage  sizeInBytes  \\\n",
              "0     items    neo4j    3063 KiB      3137496   \n",
              "\n",
              "                                   detailSizeInBytes  \\\n",
              "0  {'relationships': {'total': 2908528, 'everythi...   \n",
              "\n",
              "                                      nodeProjection  \\\n",
              "0  {'Item': {'properties': {'price_scaled': {'pro...   \n",
              "\n",
              "                              relationshipProjection nodeQuery  \\\n",
              "0  {'copurchased': {'orientation': 'UNDIRECTED', ...      None   \n",
              "\n",
              "  relationshipQuery  nodeCount  relationshipCount  density  \\\n",
              "0              None       2864            2430254    0.296   \n",
              "\n",
              "                          creationTime                     modificationTime  \\\n",
              "0  2021-03-25T11:01:57.540516000-04:00  2021-03-25T11:01:59.243571000-04:00   \n",
              "\n",
              "                                              schema  \n",
              "0  {'relationships': {'copurchased': {}}, 'nodes'...  "
            ]
          },
          "metadata": {
            "tags": []
          },
          "execution_count": 28
        }
      ]
    },
    {
      "cell_type": "code",
      "metadata": {
        "id": "fKfoofq_xoKu",
        "outputId": "146eaacc-ad24-47cf-bfdd-28588cfc9950"
      },
      "source": [
        "query = \"\"\"\n",
        "CALL gds.graph.create(\n",
        "  'items',\n",
        "  {\n",
        "    Item: {\n",
        "      label: 'Item',\n",
        "      properties: {\n",
        "        price: {\n",
        "          property: 'avg_price',\n",
        "          defaultValue: 0.0\n",
        "        },\n",
        "        price_scaled: {\n",
        "         property: 'avg_price_scaled',\n",
        "         defaultValue: 0\n",
        "       },\n",
        "       total_sold: {\n",
        "         property: 'num_sold',\n",
        "         defaultValue: 0\n",
        "       },\n",
        "       total_sold_scaled: {\n",
        "         property: 'num_sold_scaled',\n",
        "         defaultValue: 0\n",
        "       }\n",
        "      }\n",
        "    }\n",
        "  },\n",
        "  {\n",
        "    copurchased: {\n",
        "        type: 'COPURCHASED',\n",
        "      orientation: 'UNDIRECTED'\n",
        "    }\n",
        "  }\n",
        ");\n",
        "\"\"\"\n",
        "\n",
        "with driver.session(database=\"neo4j\") as session:\n",
        "    #display(session.run(query).consume().counters)\n",
        "    result = session.run(query)\n",
        "    results = pd.DataFrame([dict(record) for record in result])\n",
        "results"
      ],
      "execution_count": null,
      "outputs": [
        {
          "output_type": "execute_result",
          "data": {
            "text/html": [
              "<div>\n",
              "<style scoped>\n",
              "    .dataframe tbody tr th:only-of-type {\n",
              "        vertical-align: middle;\n",
              "    }\n",
              "\n",
              "    .dataframe tbody tr th {\n",
              "        vertical-align: top;\n",
              "    }\n",
              "\n",
              "    .dataframe thead th {\n",
              "        text-align: right;\n",
              "    }\n",
              "</style>\n",
              "<table border=\"1\" class=\"dataframe\">\n",
              "  <thead>\n",
              "    <tr style=\"text-align: right;\">\n",
              "      <th></th>\n",
              "      <th>nodeProjection</th>\n",
              "      <th>relationshipProjection</th>\n",
              "      <th>graphName</th>\n",
              "      <th>nodeCount</th>\n",
              "      <th>relationshipCount</th>\n",
              "      <th>createMillis</th>\n",
              "    </tr>\n",
              "  </thead>\n",
              "  <tbody>\n",
              "    <tr>\n",
              "      <th>0</th>\n",
              "      <td>{'Item': {'properties': {'price_scaled': {'pro...</td>\n",
              "      <td>{'copurchased': {'orientation': 'UNDIRECTED', ...</td>\n",
              "      <td>items</td>\n",
              "      <td>2869</td>\n",
              "      <td>2430274</td>\n",
              "      <td>154</td>\n",
              "    </tr>\n",
              "  </tbody>\n",
              "</table>\n",
              "</div>"
            ],
            "text/plain": [
              "                                      nodeProjection  \\\n",
              "0  {'Item': {'properties': {'price_scaled': {'pro...   \n",
              "\n",
              "                              relationshipProjection graphName  nodeCount  \\\n",
              "0  {'copurchased': {'orientation': 'UNDIRECTED', ...     items       2869   \n",
              "\n",
              "   relationshipCount  createMillis  \n",
              "0            2430274           154  "
            ]
          },
          "metadata": {
            "tags": []
          },
          "execution_count": 29
        }
      ]
    },
    {
      "cell_type": "markdown",
      "metadata": {
        "id": "AdfOYNipxoKv"
      },
      "source": [
        "### **Apply saved model to predict embeddings**"
      ]
    },
    {
      "cell_type": "code",
      "metadata": {
        "id": "45CK73ImxoKv",
        "outputId": "2ab06c19-5bda-40b4-c285-0708205b33a7"
      },
      "source": [
        "query = \"\"\"\n",
        "CALL gds.beta.graphSage.write(\n",
        "  'items',\n",
        "  {\n",
        "    writeProperty:'graphsage_embedding',\n",
        "    modelName: 'graphsage_demo'\n",
        "  });\n",
        "\"\"\"\n",
        "\n",
        "with driver.session(database=\"neo4j\") as session:\n",
        "    #display(session.run(query).consume().counters)\n",
        "    result = session.run(query)\n",
        "    results = pd.DataFrame([dict(record) for record in result])\n",
        "results\n"
      ],
      "execution_count": null,
      "outputs": [
        {
          "output_type": "execute_result",
          "data": {
            "text/html": [
              "<div>\n",
              "<style scoped>\n",
              "    .dataframe tbody tr th:only-of-type {\n",
              "        vertical-align: middle;\n",
              "    }\n",
              "\n",
              "    .dataframe tbody tr th {\n",
              "        vertical-align: top;\n",
              "    }\n",
              "\n",
              "    .dataframe thead th {\n",
              "        text-align: right;\n",
              "    }\n",
              "</style>\n",
              "<table border=\"1\" class=\"dataframe\">\n",
              "  <thead>\n",
              "    <tr style=\"text-align: right;\">\n",
              "      <th></th>\n",
              "      <th>nodeCount</th>\n",
              "      <th>nodePropertiesWritten</th>\n",
              "      <th>createMillis</th>\n",
              "      <th>computeMillis</th>\n",
              "      <th>writeMillis</th>\n",
              "      <th>configuration</th>\n",
              "    </tr>\n",
              "  </thead>\n",
              "  <tbody>\n",
              "    <tr>\n",
              "      <th>0</th>\n",
              "      <td>2869</td>\n",
              "      <td>2869</td>\n",
              "      <td>0</td>\n",
              "      <td>1814</td>\n",
              "      <td>95</td>\n",
              "      <td>{'modelName': 'graphsage_demo', 'writeConcurre...</td>\n",
              "    </tr>\n",
              "  </tbody>\n",
              "</table>\n",
              "</div>"
            ],
            "text/plain": [
              "   nodeCount  nodePropertiesWritten  createMillis  computeMillis  writeMillis  \\\n",
              "0       2869                   2869             0           1814           95   \n",
              "\n",
              "                                       configuration  \n",
              "0  {'modelName': 'graphsage_demo', 'writeConcurre...  "
            ]
          },
          "metadata": {
            "tags": []
          },
          "execution_count": 30
        }
      ]
    },
    {
      "cell_type": "markdown",
      "metadata": {
        "id": "RdmKeMDkxoKv"
      },
      "source": [
        "### **Check embeddings for newly added data**"
      ]
    },
    {
      "cell_type": "code",
      "metadata": {
        "id": "3grnt8YWxoKv",
        "outputId": "d44fccb0-a3b4-47ef-8e85-d1b1f4c7065b"
      },
      "source": [
        "query = \"\"\"\n",
        "UNWIND ['SEA OWL', 'LAND OWL', 'FIRE OWL', 'FOREST OWL', 'POTATO OWL'] as descr\n",
        "MATCH (i:Item {Description:descr})\n",
        "RETURN i.Description, i.graphsage_embedding;\n",
        "\"\"\"\n",
        "\n",
        "with driver.session(database=\"neo4j\") as session:\n",
        "    #display(session.run(query).consume().counters)\n",
        "    result = session.run(query)\n",
        "    results = pd.DataFrame([dict(record) for record in result])\n",
        "results\n"
      ],
      "execution_count": null,
      "outputs": [
        {
          "output_type": "execute_result",
          "data": {
            "text/html": [
              "<div>\n",
              "<style scoped>\n",
              "    .dataframe tbody tr th:only-of-type {\n",
              "        vertical-align: middle;\n",
              "    }\n",
              "\n",
              "    .dataframe tbody tr th {\n",
              "        vertical-align: top;\n",
              "    }\n",
              "\n",
              "    .dataframe thead th {\n",
              "        text-align: right;\n",
              "    }\n",
              "</style>\n",
              "<table border=\"1\" class=\"dataframe\">\n",
              "  <thead>\n",
              "    <tr style=\"text-align: right;\">\n",
              "      <th></th>\n",
              "      <th>i.Description</th>\n",
              "      <th>i.graphsage_embedding</th>\n",
              "    </tr>\n",
              "  </thead>\n",
              "  <tbody>\n",
              "    <tr>\n",
              "      <th>0</th>\n",
              "      <td>SEA OWL</td>\n",
              "      <td>[1.2350249071117245e-08, 7.196271250569227e-11...</td>\n",
              "    </tr>\n",
              "    <tr>\n",
              "      <th>1</th>\n",
              "      <td>LAND OWL</td>\n",
              "      <td>[1.2350249071117245e-08, 7.196271250569227e-11...</td>\n",
              "    </tr>\n",
              "    <tr>\n",
              "      <th>2</th>\n",
              "      <td>FIRE OWL</td>\n",
              "      <td>[1.2350249071117245e-08, 7.196271250569227e-11...</td>\n",
              "    </tr>\n",
              "    <tr>\n",
              "      <th>3</th>\n",
              "      <td>FOREST OWL</td>\n",
              "      <td>[1.2350249071117245e-08, 7.196271250569227e-11...</td>\n",
              "    </tr>\n",
              "    <tr>\n",
              "      <th>4</th>\n",
              "      <td>POTATO OWL</td>\n",
              "      <td>[1.2350249071117245e-08, 7.196271250569227e-11...</td>\n",
              "    </tr>\n",
              "  </tbody>\n",
              "</table>\n",
              "</div>"
            ],
            "text/plain": [
              "  i.Description                              i.graphsage_embedding\n",
              "0       SEA OWL  [1.2350249071117245e-08, 7.196271250569227e-11...\n",
              "1      LAND OWL  [1.2350249071117245e-08, 7.196271250569227e-11...\n",
              "2      FIRE OWL  [1.2350249071117245e-08, 7.196271250569227e-11...\n",
              "3    FOREST OWL  [1.2350249071117245e-08, 7.196271250569227e-11...\n",
              "4    POTATO OWL  [1.2350249071117245e-08, 7.196271250569227e-11..."
            ]
          },
          "metadata": {
            "tags": []
          },
          "execution_count": 31
        }
      ]
    },
    {
      "cell_type": "markdown",
      "metadata": {
        "id": "13QGiU4RxoKv"
      },
      "source": [
        "### **Calculate Similarity embedding**"
      ]
    },
    {
      "cell_type": "code",
      "metadata": {
        "id": "Y4y-ivRYxoKw",
        "outputId": "fde130b6-d009-414d-d8c0-81ae14297a62"
      },
      "source": [
        "query = \"\"\"\n",
        " MATCH (i:Item)\n",
        " WITH {item:id(i), weights: i.graphsage_embedding} AS itemData\n",
        " WITH collect(itemData) AS data\n",
        " CALL gds.alpha.similarity.cosine.write({\n",
        "  data: data,\n",
        "  skipValue: null,\n",
        "  topK: 5,\n",
        "  similarityCutoff:.1,\n",
        "  writeRelationshipType:'SIMILAR_GRAPHSAGE_EMBEDDING'\n",
        " })\n",
        "YIELD min, max, mean, stdDev, p25, p50, p75, p90, p95, p99, p999, p100\n",
        "RETURN min, max, mean, stdDev;\n",
        "\"\"\"\n",
        "\n",
        "with driver.session(database=\"neo4j\") as session:\n",
        "    #display(session.run(query).consume().counters)\n",
        "    result = session.run(query)\n",
        "    results = pd.DataFrame([dict(record) for record in result])\n",
        "results"
      ],
      "execution_count": null,
      "outputs": [
        {
          "output_type": "execute_result",
          "data": {
            "text/html": [
              "<div>\n",
              "<style scoped>\n",
              "    .dataframe tbody tr th:only-of-type {\n",
              "        vertical-align: middle;\n",
              "    }\n",
              "\n",
              "    .dataframe tbody tr th {\n",
              "        vertical-align: top;\n",
              "    }\n",
              "\n",
              "    .dataframe thead th {\n",
              "        text-align: right;\n",
              "    }\n",
              "</style>\n",
              "<table border=\"1\" class=\"dataframe\">\n",
              "  <thead>\n",
              "    <tr style=\"text-align: right;\">\n",
              "      <th></th>\n",
              "      <th>min</th>\n",
              "      <th>max</th>\n",
              "      <th>mean</th>\n",
              "      <th>stdDev</th>\n",
              "    </tr>\n",
              "  </thead>\n",
              "  <tbody>\n",
              "    <tr>\n",
              "      <th>0</th>\n",
              "      <td>1.000</td>\n",
              "      <td>1.000</td>\n",
              "      <td>1.000</td>\n",
              "      <td>0.000</td>\n",
              "    </tr>\n",
              "  </tbody>\n",
              "</table>\n",
              "</div>"
            ],
            "text/plain": [
              "    min   max  mean  stdDev\n",
              "0 1.000 1.000 1.000   0.000"
            ]
          },
          "metadata": {
            "tags": []
          },
          "execution_count": 32
        }
      ]
    },
    {
      "cell_type": "markdown",
      "metadata": {
        "id": "t32j0GDBxoKw"
      },
      "source": [
        "## **GraphSAGE** multipartite graph"
      ]
    },
    {
      "cell_type": "code",
      "metadata": {
        "id": "WuWe_kMnxoKw",
        "outputId": "f90629a9-b9da-481e-b039-2ac95bbd4348"
      },
      "source": [
        "query = \"\"\"\n",
        "// Drop all graphs\n",
        "CALL gds.graph.list()\n",
        "YIELD graphName AS namedGraph\n",
        "WITH namedGraph\n",
        "CALL gds.graph.drop(namedGraph)\n",
        "YIELD graphName\n",
        "RETURN graphName;\n",
        "\"\"\"\n",
        "\n",
        "with driver.session(database=\"neo4j\") as session:\n",
        "    #display(session.run(query).consume().counters)\n",
        "    result = session.run(query)\n",
        "    results = pd.DataFrame([dict(record) for record in result])\n",
        "results"
      ],
      "execution_count": null,
      "outputs": [
        {
          "output_type": "execute_result",
          "data": {
            "text/html": [
              "<div>\n",
              "<style scoped>\n",
              "    .dataframe tbody tr th:only-of-type {\n",
              "        vertical-align: middle;\n",
              "    }\n",
              "\n",
              "    .dataframe tbody tr th {\n",
              "        vertical-align: top;\n",
              "    }\n",
              "\n",
              "    .dataframe thead th {\n",
              "        text-align: right;\n",
              "    }\n",
              "</style>\n",
              "<table border=\"1\" class=\"dataframe\">\n",
              "  <thead>\n",
              "    <tr style=\"text-align: right;\">\n",
              "      <th></th>\n",
              "    </tr>\n",
              "  </thead>\n",
              "  <tbody>\n",
              "  </tbody>\n",
              "</table>\n",
              "</div>"
            ],
            "text/plain": [
              "Empty DataFrame\n",
              "Columns: []\n",
              "Index: []"
            ]
          },
          "metadata": {
            "tags": []
          },
          "execution_count": 49
        }
      ]
    },
    {
      "cell_type": "code",
      "metadata": {
        "id": "ZDNz9lBPxoKw",
        "outputId": "3a04d112-fabf-4b56-f607-2d15d3792db7"
      },
      "source": [
        "query = \"\"\"\n",
        "CALL gds.graph.create(\n",
        "  'retail_graph',\n",
        "  {\n",
        "    Item: {\n",
        "      label: 'Item',\n",
        "      properties: {\n",
        "        price: {\n",
        "          property: 'avg_price',\n",
        "          defaultValue: 0.0\n",
        "        },\n",
        "        price_scaled: {\n",
        "          property: 'avg_price_scaled',\n",
        "          defaultValue: 0.0\n",
        "        },\n",
        "        total_sold: {\n",
        "         property: 'num_sold',\n",
        "         defaultValue: 0\n",
        "       },\n",
        "       total_sold_scaled: {\n",
        "         property: 'num_sold_scaled',\n",
        "         defaultValue: 0\n",
        "       }\n",
        "     }\n",
        "    },\n",
        "    Transaction: {\n",
        "      label: 'Transaction',\n",
        "      properties: {\n",
        "       EpochTime:{\n",
        "       \tproperty:'EpochTime',\n",
        "        defaultValue:0\n",
        "       }\n",
        "     }\n",
        "    }\n",
        "\n",
        " \n",
        " }, {\n",
        "    \n",
        "    CONTAINS: {\n",
        "      type: 'CONTAINS',\n",
        "      orientation: 'UNDIRECTED'\n",
        "    }\n",
        "});\n",
        "\"\"\"\n",
        "\n",
        "with driver.session(database=\"neo4j\") as session:\n",
        "    #display(session.run(query).consume().counters)\n",
        "    result = session.run(query)\n",
        "    results = pd.DataFrame([dict(record) for record in result])\n",
        "results"
      ],
      "execution_count": null,
      "outputs": [
        {
          "output_type": "execute_result",
          "data": {
            "text/html": [
              "<div>\n",
              "<style scoped>\n",
              "    .dataframe tbody tr th:only-of-type {\n",
              "        vertical-align: middle;\n",
              "    }\n",
              "\n",
              "    .dataframe tbody tr th {\n",
              "        vertical-align: top;\n",
              "    }\n",
              "\n",
              "    .dataframe thead th {\n",
              "        text-align: right;\n",
              "    }\n",
              "</style>\n",
              "<table border=\"1\" class=\"dataframe\">\n",
              "  <thead>\n",
              "    <tr style=\"text-align: right;\">\n",
              "      <th></th>\n",
              "      <th>nodeProjection</th>\n",
              "      <th>relationshipProjection</th>\n",
              "      <th>graphName</th>\n",
              "      <th>nodeCount</th>\n",
              "      <th>relationshipCount</th>\n",
              "      <th>createMillis</th>\n",
              "    </tr>\n",
              "  </thead>\n",
              "  <tbody>\n",
              "    <tr>\n",
              "      <th>0</th>\n",
              "      <td>{'Transaction': {'properties': {'EpochTime': {...</td>\n",
              "      <td>{'CONTAINS': {'orientation': 'UNDIRECTED', 'ag...</td>\n",
              "      <td>retail_graph</td>\n",
              "      <td>22718</td>\n",
              "      <td>944668</td>\n",
              "      <td>99</td>\n",
              "    </tr>\n",
              "  </tbody>\n",
              "</table>\n",
              "</div>"
            ],
            "text/plain": [
              "                                      nodeProjection  \\\n",
              "0  {'Transaction': {'properties': {'EpochTime': {...   \n",
              "\n",
              "                              relationshipProjection     graphName  nodeCount  \\\n",
              "0  {'CONTAINS': {'orientation': 'UNDIRECTED', 'ag...  retail_graph      22718   \n",
              "\n",
              "   relationshipCount  createMillis  \n",
              "0             944668            99  "
            ]
          },
          "metadata": {
            "tags": []
          },
          "execution_count": 50
        }
      ]
    },
    {
      "cell_type": "markdown",
      "metadata": {
        "id": "-_uZWYAJxoKx"
      },
      "source": [
        "### Train a model"
      ]
    },
    {
      "cell_type": "code",
      "metadata": {
        "id": "JFBhyjaBxoKx",
        "outputId": "5959e788-f057-438c-c289-43b87dff4e39"
      },
      "source": [
        "query = \"\"\"\n",
        "// Drop all models, commumity edition, allows one model only\n",
        "CALL gds.beta.model.list()\n",
        "YIELD modelInfo AS mInfo\n",
        "WITH mInfo.modelName as savedModel\n",
        "CALL gds.beta.model.drop(savedModel)\n",
        "YIELD modelInfo\n",
        "RETURN modelInfo;\n",
        "\"\"\"\n",
        "\n",
        "with driver.session(database=\"neo4j\") as session:\n",
        "    #display(session.run(query).consume().counters)\n",
        "    result = session.run(query)\n",
        "    results = pd.DataFrame([dict(record) for record in result])\n",
        "results"
      ],
      "execution_count": null,
      "outputs": [
        {
          "output_type": "execute_result",
          "data": {
            "text/html": [
              "<div>\n",
              "<style scoped>\n",
              "    .dataframe tbody tr th:only-of-type {\n",
              "        vertical-align: middle;\n",
              "    }\n",
              "\n",
              "    .dataframe tbody tr th {\n",
              "        vertical-align: top;\n",
              "    }\n",
              "\n",
              "    .dataframe thead th {\n",
              "        text-align: right;\n",
              "    }\n",
              "</style>\n",
              "<table border=\"1\" class=\"dataframe\">\n",
              "  <thead>\n",
              "    <tr style=\"text-align: right;\">\n",
              "      <th></th>\n",
              "      <th>modelInfo</th>\n",
              "    </tr>\n",
              "  </thead>\n",
              "  <tbody>\n",
              "    <tr>\n",
              "      <th>0</th>\n",
              "      <td>{'modelName': 'graphsage_multipartite_demo', '...</td>\n",
              "    </tr>\n",
              "  </tbody>\n",
              "</table>\n",
              "</div>"
            ],
            "text/plain": [
              "                                           modelInfo\n",
              "0  {'modelName': 'graphsage_multipartite_demo', '..."
            ]
          },
          "metadata": {
            "tags": []
          },
          "execution_count": 51
        }
      ]
    },
    {
      "cell_type": "code",
      "metadata": {
        "id": "QtOPx5g7xoKx",
        "outputId": "882bf93d-aa09-4875-e865-4e958d2492cf"
      },
      "source": [
        "query = \"\"\"\n",
        "CALL gds.beta.graphSage.train(\n",
        "  'retail_graph',\n",
        "  {\n",
        "    embeddingDimension: 8,\n",
        "    modelName: 'graphsage_multipartite_demo',\n",
        "    //which features should we use? all of them!\n",
        "    featureProperties: ['price_scaled', 'EpochTime','total_sold_scaled'],\n",
        "    //specify the projected feature dimension\n",
        "    projectedFeatureDimension:5, //2 labels + 3 properties\n",
        "    degreeAsProperty: true, //adding more properties\n",
        "    epochs: 5, //how many times to traverse the graph during training\n",
        "    searchDepth:5, //depth of the random walk,\n",
        "    aggregator: 'mean', //aggregating data\n",
        "    activationFunction: 'sigmoid', //part of the aggregation function\n",
        "    sampleSizes:[25,10], //how many nodes to sample at each layer\n",
        "    negativeSampleWeight: 10 //used by the loss function\n",
        "  }\n",
        ");\n",
        "\"\"\"\n",
        "\n",
        "with driver.session(database=\"neo4j\") as session:\n",
        "    #display(session.run(query).consume().counters)\n",
        "    result = session.run(query)\n",
        "    results = pd.DataFrame([dict(record) for record in result])\n",
        "results"
      ],
      "execution_count": null,
      "outputs": [
        {
          "output_type": "execute_result",
          "data": {
            "text/html": [
              "<div>\n",
              "<style scoped>\n",
              "    .dataframe tbody tr th:only-of-type {\n",
              "        vertical-align: middle;\n",
              "    }\n",
              "\n",
              "    .dataframe tbody tr th {\n",
              "        vertical-align: top;\n",
              "    }\n",
              "\n",
              "    .dataframe thead th {\n",
              "        text-align: right;\n",
              "    }\n",
              "</style>\n",
              "<table border=\"1\" class=\"dataframe\">\n",
              "  <thead>\n",
              "    <tr style=\"text-align: right;\">\n",
              "      <th></th>\n",
              "      <th>graphName</th>\n",
              "      <th>graphCreateConfig</th>\n",
              "      <th>modelInfo</th>\n",
              "      <th>configuration</th>\n",
              "      <th>trainMillis</th>\n",
              "    </tr>\n",
              "  </thead>\n",
              "  <tbody>\n",
              "    <tr>\n",
              "      <th>0</th>\n",
              "      <td>retail_graph</td>\n",
              "      <td>{}</td>\n",
              "      <td>{'name': 'graphsage_multipartite_demo', 'type'...</td>\n",
              "      <td>{'maxIterations': 10, 'negativeSampleWeight': ...</td>\n",
              "      <td>57279</td>\n",
              "    </tr>\n",
              "  </tbody>\n",
              "</table>\n",
              "</div>"
            ],
            "text/plain": [
              "      graphName graphCreateConfig  \\\n",
              "0  retail_graph                {}   \n",
              "\n",
              "                                           modelInfo  \\\n",
              "0  {'name': 'graphsage_multipartite_demo', 'type'...   \n",
              "\n",
              "                                       configuration  trainMillis  \n",
              "0  {'maxIterations': 10, 'negativeSampleWeight': ...        57279  "
            ]
          },
          "metadata": {
            "tags": []
          },
          "execution_count": 52
        }
      ]
    },
    {
      "cell_type": "markdown",
      "metadata": {
        "id": "baBL9X0DxoKx"
      },
      "source": [
        "### **Mutate in-memory graph**"
      ]
    },
    {
      "cell_type": "code",
      "metadata": {
        "id": "YYc4CcGkxoKx",
        "outputId": "2ad5375f-6012-45f9-ae65-394c02c919c7"
      },
      "source": [
        "query = \"\"\"\n",
        "CALL gds.beta.graphSage.mutate(\n",
        "  'retail_graph',\n",
        "  {\n",
        "    modelName: 'graphsage_multipartite_demo',\n",
        "    mutateProperty:'Embedding'\n",
        "  });\n",
        "\"\"\"\n",
        "\n",
        "with driver.session(database=\"neo4j\") as session:\n",
        "    #display(session.run(query).consume().counters)\n",
        "    result = session.run(query)\n",
        "    results = pd.DataFrame([dict(record) for record in result])\n",
        "results"
      ],
      "execution_count": null,
      "outputs": [
        {
          "output_type": "execute_result",
          "data": {
            "text/html": [
              "<div>\n",
              "<style scoped>\n",
              "    .dataframe tbody tr th:only-of-type {\n",
              "        vertical-align: middle;\n",
              "    }\n",
              "\n",
              "    .dataframe tbody tr th {\n",
              "        vertical-align: top;\n",
              "    }\n",
              "\n",
              "    .dataframe thead th {\n",
              "        text-align: right;\n",
              "    }\n",
              "</style>\n",
              "<table border=\"1\" class=\"dataframe\">\n",
              "  <thead>\n",
              "    <tr style=\"text-align: right;\">\n",
              "      <th></th>\n",
              "      <th>nodePropertiesWritten</th>\n",
              "      <th>mutateMillis</th>\n",
              "      <th>nodeCount</th>\n",
              "      <th>createMillis</th>\n",
              "      <th>computeMillis</th>\n",
              "      <th>configuration</th>\n",
              "    </tr>\n",
              "  </thead>\n",
              "  <tbody>\n",
              "    <tr>\n",
              "      <th>0</th>\n",
              "      <td>22718</td>\n",
              "      <td>1</td>\n",
              "      <td>22718</td>\n",
              "      <td>0</td>\n",
              "      <td>6093</td>\n",
              "      <td>{'modelName': 'graphsage_multipartite_demo', '...</td>\n",
              "    </tr>\n",
              "  </tbody>\n",
              "</table>\n",
              "</div>"
            ],
            "text/plain": [
              "   nodePropertiesWritten  mutateMillis  nodeCount  createMillis  \\\n",
              "0                  22718             1      22718             0   \n",
              "\n",
              "   computeMillis                                      configuration  \n",
              "0           6093  {'modelName': 'graphsage_multipartite_demo', '...  "
            ]
          },
          "metadata": {
            "tags": []
          },
          "execution_count": 53
        }
      ]
    },
    {
      "cell_type": "markdown",
      "metadata": {
        "id": "SCbwOhpYxoKx"
      },
      "source": [
        "### **Write Similarity Property to graph using KNN**"
      ]
    },
    {
      "cell_type": "code",
      "metadata": {
        "id": "QjpPMS4IxoKy",
        "outputId": "579a16d4-7eac-4200-ade6-bd1d11cf80a3"
      },
      "source": [
        "query = \"\"\"\n",
        "CALL gds.beta.knn.write('retail_graph', {\n",
        "    writeRelationshipType: 'SIMILAR_GRAPHSAGE_EMBEDDING_MULTIPARTITE',\n",
        "    writeProperty: 'score',\n",
        "    topK: 5,\n",
        "    randomSeed: 42,\n",
        "    nodeWeightProperty: 'Embedding'\n",
        "})\n",
        "YIELD nodesCompared, relationshipsWritten;\n",
        "\"\"\"\n",
        "\n",
        "with driver.session(database=\"neo4j\") as session:\n",
        "    #display(session.run(query).consume().counters)\n",
        "    result = session.run(query)\n",
        "    results = pd.DataFrame([dict(record) for record in result])\n",
        "results"
      ],
      "execution_count": null,
      "outputs": [
        {
          "output_type": "execute_result",
          "data": {
            "text/html": [
              "<div>\n",
              "<style scoped>\n",
              "    .dataframe tbody tr th:only-of-type {\n",
              "        vertical-align: middle;\n",
              "    }\n",
              "\n",
              "    .dataframe tbody tr th {\n",
              "        vertical-align: top;\n",
              "    }\n",
              "\n",
              "    .dataframe thead th {\n",
              "        text-align: right;\n",
              "    }\n",
              "</style>\n",
              "<table border=\"1\" class=\"dataframe\">\n",
              "  <thead>\n",
              "    <tr style=\"text-align: right;\">\n",
              "      <th></th>\n",
              "      <th>nodesCompared</th>\n",
              "      <th>relationshipsWritten</th>\n",
              "    </tr>\n",
              "  </thead>\n",
              "  <tbody>\n",
              "    <tr>\n",
              "      <th>0</th>\n",
              "      <td>22718</td>\n",
              "      <td>46164</td>\n",
              "    </tr>\n",
              "  </tbody>\n",
              "</table>\n",
              "</div>"
            ],
            "text/plain": [
              "   nodesCompared  relationshipsWritten\n",
              "0          22718                 46164"
            ]
          },
          "metadata": {
            "tags": []
          },
          "execution_count": 54
        }
      ]
    }
  ]
}